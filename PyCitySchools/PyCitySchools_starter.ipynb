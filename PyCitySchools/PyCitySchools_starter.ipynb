{
 "cells": [
  {
   "cell_type": "code",
   "execution_count": null,
   "metadata": {},
   "outputs": [],
   "source": [
    "# Dependencies and Setup\n",
    "import pandas as pd\n",
    "import numpy as np"
   ]
  },
  {
   "cell_type": "code",
   "execution_count": null,
   "metadata": {},
   "outputs": [],
   "source": [
    "# Referencing file paths to Load \n",
    "school_data_to_load = \"Resources/schools_complete.csv\"\n",
    "student_data_to_load = \"Resources/students_complete.csv\"\n",
    "\n",
    "# Read school and student data files and stores into Pandas DataFrames\n",
    "school_data = pd.read_csv(school_data_to_load)\n",
    "student_data = pd.read_csv(student_data_to_load)"
   ]
  },
  {
   "cell_type": "code",
   "execution_count": null,
   "metadata": {},
   "outputs": [],
   "source": [
    "# Calculating total number of schools\n",
    "tot_schools=school_data[\"School ID\"].count()\n",
    "# Calculating total number of students\n",
    "tot_students=school_data[\"size\"].sum()\n",
    "# Calculating total budget\n",
    "tot_budget=\"${:,.2f}\".format(school_data[\"budget\"].sum())"
   ]
  },
  {
   "cell_type": "code",
   "execution_count": null,
   "metadata": {},
   "outputs": [],
   "source": [
    "# Combining two datasets into a single dataset.  \n",
    "clean_school_data = pd.merge(student_data, school_data, how=\"left\", on=[\"school_name\", \"school_name\"]).copy()\n",
    "clean_school_data.head(2)"
   ]
  },
  {
   "cell_type": "code",
   "execution_count": null,
   "metadata": {},
   "outputs": [],
   "source": [
    "# calculate average math score\n",
    "avg_math_score=round(clean_school_data.math_score.mean(),6)\n",
    "# calculate average reading score\n",
    "avg_read_score=round(clean_school_data.reading_score.mean(),5)\n",
    "# calculate percentage of passing math\n",
    "perc_pass_math=round(len(clean_school_data.loc[clean_school_data['math_score']>=70])/tot_students,8)\n",
    "# calculate percentage of passing reading \n",
    "perc_pass_read=round(len(clean_school_data.loc[clean_school_data['reading_score']>=70])/tot_students,8)\n",
    "# calculate percentage of passing math and reading\n",
    "perc_overall_pass=round(len(clean_school_data.loc[(clean_school_data['reading_score']>=70) & \n",
    "                                            (clean_school_data['math_score']>=70)])/tot_students,8)\n",
    "\n",
    "# create a dataframe for District Summary\n",
    "dist_summary_df=pd.DataFrame({\"Total Schools\":[tot_schools], \"Total Students\":[tot_students], \"Total Budget\":[tot_budget],\n",
    "                \"Average Math Score\":[avg_math_score], \"Average Reading Score\":[avg_read_score],\n",
    "                \"% Passing Math\":[perc_pass_math*100], \"% Passing Reading\":[perc_pass_read*100],\n",
    "                \"% Overall Passing\":[perc_overall_pass*100]})\n",
    "dist_summary_df"
   ]
  },
  {
   "cell_type": "code",
   "execution_count": null,
   "metadata": {},
   "outputs": [],
   "source": [
    "# School Summary\n",
    "school_names=clean_school_data.groupby(['school_name'])\n",
    "# extracting school type from the grouped school names\n",
    "school_type=school_names.type.unique()\n",
    "\n",
    "# total students each school\n",
    "tot_studin_school=school_names['Student ID'].count()\n",
    "# total budget of each school\n",
    "tot_school_budget=school_names['budget'].mean()\n",
    "# per student budget of each school\n",
    "per_stud_budget=tot_school_budget/tot_studin_school\n",
    "# average math score of each school\n",
    "avg_school_math_score=school_names['math_score'].mean()\n",
    "# average reading score of each school\n",
    "avg_school_read_score=school_names['reading_score'].mean()\n",
    "\n",
    "# Passing score is 70 or greater\n",
    "# Passing math percentage of each school\n",
    "pass_math=clean_school_data.loc[clean_school_data['math_score']>=70]\n",
    "math_school=pass_math.groupby(['school_name']).count()\n",
    "school_students=clean_school_data['school_name'].value_counts()\n",
    "math_perc_pass=(math_school.math_score/school_students)*100\n",
    "\n",
    "# Passing reading percentage of each school\n",
    "pass_read=clean_school_data.loc[clean_school_data['reading_score']>=70]\n",
    "read_school=pass_read.groupby(['school_name']).count()\n",
    "read_perc_pass=(read_school.reading_score/school_students)*100\n",
    "# Percentage of students that passed math and reading\n",
    "overall_pass=clean_school_data.loc[(clean_school_data['reading_score']>=70) & \n",
    "                                            (clean_school_data['math_score']>=70)]\n",
    "overall_school=overall_pass.groupby(['school_name']).count()\n",
    "overall_perc_pass=(overall_school['math_score'] & overall_school['reading_score'])/school_students*100\n",
    "\n",
    "# create the school summary dataframe\n",
    "school_summary = pd.DataFrame({\n",
    "    \"Student Count\":tot_studin_school,\n",
    "    \"School Type\":school_type, \n",
    "    \"School Budget\":tot_school_budget, \n",
    "    \"Per Student Budget\":per_stud_budget,\n",
    "    \"Ave Math Score\":avg_school_math_score, \n",
    "    \"Ave Reading Score\":avg_school_read_score, \n",
    "    \"% Passing Math\":math_perc_pass, \n",
    "    \"% Passing Reading\":read_perc_pass,\n",
    "    \"Overall Passing Rate\":overall_perc_pass})\n",
    "\n",
    "scl_summary=school_summary.copy()\n",
    "school_sumry=school_summary.copy()\n",
    "scl_sumry=school_summary.copy()\n",
    "school_summary.head()"
   ]
  },
  {
   "cell_type": "code",
   "execution_count": null,
   "metadata": {},
   "outputs": [],
   "source": [
    "# Calculating top five performaing schools (by percentage of passing)\n",
    "top_perform_schools = school_summary.sort_values('Overall Passing Rate', ascending=False)\n",
    "top_perform_schools.head()"
   ]
  },
  {
   "cell_type": "code",
   "execution_count": null,
   "metadata": {},
   "outputs": [],
   "source": [
    "# Calculating five worst performaing schools (by percentage of passing)\n",
    "top_perform_schools = school_summary.sort_values('Overall Passing Rate')\n",
    "top_perform_schools.head()"
   ]
  },
  {
   "cell_type": "code",
   "execution_count": null,
   "metadata": {},
   "outputs": [],
   "source": [
    "# Calculating math score by grade\n",
    "# Create series of 9th, 10th, 11th, 12th grade\n",
    "ninth_grade=clean_school_data.loc[clean_school_data.grade == '9th']\n",
    "tenth_grade=clean_school_data.loc[clean_school_data.grade == '10th']\n",
    "eleventh_grade=clean_school_data.loc[clean_school_data.grade == '11th']\n",
    "twelth_grade=clean_school_data.loc[clean_school_data.grade == '12th']\n",
    "\n",
    "# Grouping combined data by school name\n",
    "ninth_grade_avg = ninth_grade.groupby(\"school_name\").mean()\n",
    "tenth_grade_avg = tenth_grade.groupby(\"school_name\").mean()\n",
    "eleventh_grade_avg = eleventh_grade.groupby(\"school_name\").mean()\n",
    "twelth_grade_avg = twelth_grade.groupby(\"school_name\").mean()\n",
    "\n",
    "# Create math score grouped by school name based on grades with math score\n",
    "school_math_score=pd.DataFrame({\"9th\":ninth_grade_avg.math_score, \"10th\":tenth_grade_avg.math_score,\n",
    "                                \"11th\":eleventh_grade_avg.math_score, \"12th\":twelth_grade_avg.math_score})\n",
    "school_math_score"
   ]
  },
  {
   "cell_type": "code",
   "execution_count": null,
   "metadata": {},
   "outputs": [],
   "source": [
    "# Calculations exactly same as above math score by grade\n",
    "# Create math score grouped by school name based on grades with reading score\n",
    "school_reading_score=pd.DataFrame({\"9th\":ninth_grade_avg.reading_score, \"10th\":tenth_grade_avg.reading_score,\n",
    "                                \"11th\":eleventh_grade_avg.reading_score, \"12th\":twelth_grade_avg.reading_score})\n",
    "school_reading_score"
   ]
  },
  {
   "cell_type": "code",
   "execution_count": null,
   "metadata": {},
   "outputs": [],
   "source": [
    "# Scores by school spending\n",
    "# Bins and Labels are creating to cut data into different fragments\n",
    "bins=[0, 583, 630, 645, 675]\n",
    "# Labels for binning \n",
    "labels=['<$584', '$585-629', '$630-644', '$645-675']\n",
    "# School spending per student formatting from the school_summary dataframe using cut function\n",
    "school_sumry['School Spending(Per Student)']=pd.cut(school_sumry['Per Student Budget'], bins, labels=labels, \n",
    "                                         include_lowest=True, right=True)\n",
    "# Dataframe is grouping by School Spending (per Student) and calculating using mean function\n",
    "school_spending=school_sumry.groupby(by='School Spending(Per Student)').mean()\n",
    "# New dataframe created for the desired output\n",
    "school_spending=pd.DataFrame({\"Average Math Score\":round(school_spending['Ave Math Score'],2),\n",
    "                             \"Average Reading Score\":round(school_spending['Ave Reading Score'],2),\n",
    "                             \"% Passing Math\":round(school_spending['% Passing Math'],2),\n",
    "                             \"% Passing Reading\":round(school_spending['% Passing Reading'],2),\n",
    "                             \"% Overall Passing\":round(school_spending['Overall Passing Rate'],2)})\n",
    "school_spending"
   ]
  },
  {
   "cell_type": "code",
   "execution_count": null,
   "metadata": {},
   "outputs": [],
   "source": [
    "# Scores by school size\n",
    "# Bins and Labels are creating to cut data into different fragments\n",
    "bins=[0, 1000, 2000, 5000]\n",
    "# Labels for binning \n",
    "labels=['Samll(<1000)', 'Medium (1000-2000)', 'Large (2000-5000)']\n",
    "# Scores by school size is formatting by scl_summary dataframe using cut function\n",
    "scl_summary['School Size']=pd.cut(scl_summary['Student Count'], bins, labels=labels, \n",
    "                                         include_lowest=True, right=True)\n",
    "# Dataframe is grouping by School Size and calculating the mean\n",
    "school_size=scl_summary.groupby(by='School Size').mean()\n",
    "# New dataframe created for the desired output\n",
    "school_size=pd.DataFrame({\"Average Math Score\":school_size['Ave Math Score'],\n",
    "                             \"Average Reading Score\":school_size['Ave Reading Score'],\n",
    "                             \"% Passing Math\":school_size['% Passing Math'],\n",
    "                             \"% Passing Reading\":school_size['% Passing Reading'],\n",
    "                             \"% Overall Passing\":school_size['Overall Passing Rate']})\n",
    "school_size"
   ]
  },
  {
   "cell_type": "code",
   "execution_count": null,
   "metadata": {},
   "outputs": [],
   "source": [
    "# Scores by school type\n",
    "# Bins and Labels are creating to cut data into different fragments\n",
    "bins=[0, 2500, 5000]\n",
    "# Labels for binning \n",
    "labels=['Charter', 'District']\n",
    "# Scores by school type is formatting by scl_summary dataframe using cut function\n",
    "scl_sumry['School Type']=pd.cut(scl_sumry['Student Count'], bins, labels=labels,\n",
    "                               include_lowest=False, right=False) \n",
    "                                         \n",
    "# Dataframe is grouping by School Type and calculating the mean\n",
    "school_type=scl_sumry.groupby(by='School Type').mean()\n",
    "# # New dataframe created for the desired output\n",
    "school_type=pd.DataFrame({\"Average Math Score\":school_type['Ave Math Score'],\n",
    "                             \"Average Reading Score\":school_type['Ave Reading Score'],\n",
    "                             \"% Passing Math\":school_type['% Passing Math'],\n",
    "                             \"% Passing Reading\":school_type['% Passing Reading'],\n",
    "                             \"% Overall Passing\":school_type['Overall Passing Rate']})\n",
    "school_type"
   ]
  },
  {
   "cell_type": "code",
   "execution_count": null,
   "metadata": {},
   "outputs": [],
   "source": []
  },
  {
   "cell_type": "code",
   "execution_count": null,
   "metadata": {},
   "outputs": [],
   "source": []
  }
 ],
 "metadata": {
  "kernelspec": {
   "display_name": "Python 3",
   "language": "python",
   "name": "python3"
  },
  "language_info": {
   "codemirror_mode": {
    "name": "ipython",
    "version": 3
   },
   "file_extension": ".py",
   "mimetype": "text/x-python",
   "name": "python",
   "nbconvert_exporter": "python",
   "pygments_lexer": "ipython3",
   "version": "3.8.5"
  }
 },
 "nbformat": 4,
 "nbformat_minor": 4
}
