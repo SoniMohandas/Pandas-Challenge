{
 "cells": [
  {
   "cell_type": "code",
   "execution_count": 1,
   "metadata": {},
   "outputs": [],
   "source": [
    "# Dependencies and Setup\n",
    "import pandas as pd\n",
    "import numpy as np\n",
    "from IPython.display import display"
   ]
  },
  {
   "cell_type": "code",
   "execution_count": 2,
   "metadata": {},
   "outputs": [],
   "source": [
    "# Specifying file path\n",
    "file_path=\"Resources/purchase_data.csv\""
   ]
  },
  {
   "cell_type": "code",
   "execution_count": 3,
   "metadata": {},
   "outputs": [
    {
     "data": {
      "text/html": [
       "<div>\n",
       "<style scoped>\n",
       "    .dataframe tbody tr th:only-of-type {\n",
       "        vertical-align: middle;\n",
       "    }\n",
       "\n",
       "    .dataframe tbody tr th {\n",
       "        vertical-align: top;\n",
       "    }\n",
       "\n",
       "    .dataframe thead th {\n",
       "        text-align: right;\n",
       "    }\n",
       "</style>\n",
       "<table border=\"1\" class=\"dataframe\">\n",
       "  <thead>\n",
       "    <tr style=\"text-align: right;\">\n",
       "      <th></th>\n",
       "      <th>Purchase ID</th>\n",
       "      <th>SN</th>\n",
       "      <th>Age</th>\n",
       "      <th>Gender</th>\n",
       "      <th>Item ID</th>\n",
       "      <th>Item Name</th>\n",
       "      <th>Price</th>\n",
       "    </tr>\n",
       "  </thead>\n",
       "  <tbody>\n",
       "    <tr>\n",
       "      <th>0</th>\n",
       "      <td>0</td>\n",
       "      <td>Lisim78</td>\n",
       "      <td>20</td>\n",
       "      <td>Male</td>\n",
       "      <td>108</td>\n",
       "      <td>Extraction, Quickblade Of Trembling Hands</td>\n",
       "      <td>3.53</td>\n",
       "    </tr>\n",
       "    <tr>\n",
       "      <th>1</th>\n",
       "      <td>1</td>\n",
       "      <td>Lisovynya38</td>\n",
       "      <td>40</td>\n",
       "      <td>Male</td>\n",
       "      <td>143</td>\n",
       "      <td>Frenzied Scimitar</td>\n",
       "      <td>1.56</td>\n",
       "    </tr>\n",
       "    <tr>\n",
       "      <th>2</th>\n",
       "      <td>2</td>\n",
       "      <td>Ithergue48</td>\n",
       "      <td>24</td>\n",
       "      <td>Male</td>\n",
       "      <td>92</td>\n",
       "      <td>Final Critic</td>\n",
       "      <td>4.88</td>\n",
       "    </tr>\n",
       "    <tr>\n",
       "      <th>3</th>\n",
       "      <td>3</td>\n",
       "      <td>Chamassasya86</td>\n",
       "      <td>24</td>\n",
       "      <td>Male</td>\n",
       "      <td>100</td>\n",
       "      <td>Blindscythe</td>\n",
       "      <td>3.27</td>\n",
       "    </tr>\n",
       "    <tr>\n",
       "      <th>4</th>\n",
       "      <td>4</td>\n",
       "      <td>Iskosia90</td>\n",
       "      <td>23</td>\n",
       "      <td>Male</td>\n",
       "      <td>131</td>\n",
       "      <td>Fury</td>\n",
       "      <td>1.44</td>\n",
       "    </tr>\n",
       "  </tbody>\n",
       "</table>\n",
       "</div>"
      ],
      "text/plain": [
       "   Purchase ID             SN  Age Gender  Item ID  \\\n",
       "0            0        Lisim78   20   Male      108   \n",
       "1            1    Lisovynya38   40   Male      143   \n",
       "2            2     Ithergue48   24   Male       92   \n",
       "3            3  Chamassasya86   24   Male      100   \n",
       "4            4      Iskosia90   23   Male      131   \n",
       "\n",
       "                                   Item Name  Price  \n",
       "0  Extraction, Quickblade Of Trembling Hands   3.53  \n",
       "1                          Frenzied Scimitar   1.56  \n",
       "2                               Final Critic   4.88  \n",
       "3                                Blindscythe   3.27  \n",
       "4                                       Fury   1.44  "
      ]
     },
     "execution_count": 3,
     "metadata": {},
     "output_type": "execute_result"
    }
   ],
   "source": [
    "# Read purchase_data file and stores into pandas data frame\n",
    "purchase_read=pd.read_csv(file_path, delimiter=',')\n",
    "players_df = pd.DataFrame(purchase_read)\n",
    "players_df.head()"
   ]
  },
  {
   "cell_type": "code",
   "execution_count": 4,
   "metadata": {},
   "outputs": [
    {
     "data": {
      "text/html": [
       "<div>\n",
       "<style scoped>\n",
       "    .dataframe tbody tr th:only-of-type {\n",
       "        vertical-align: middle;\n",
       "    }\n",
       "\n",
       "    .dataframe tbody tr th {\n",
       "        vertical-align: top;\n",
       "    }\n",
       "\n",
       "    .dataframe thead th {\n",
       "        text-align: right;\n",
       "    }\n",
       "</style>\n",
       "<table border=\"1\" class=\"dataframe\">\n",
       "  <thead>\n",
       "    <tr style=\"text-align: right;\">\n",
       "      <th></th>\n",
       "      <th>Total Players</th>\n",
       "    </tr>\n",
       "  </thead>\n",
       "  <tbody>\n",
       "    <tr>\n",
       "      <th>0</th>\n",
       "      <td>576</td>\n",
       "    </tr>\n",
       "  </tbody>\n",
       "</table>\n",
       "</div>"
      ],
      "text/plain": [
       "   Total Players\n",
       "0            576"
      ]
     },
     "execution_count": 4,
     "metadata": {},
     "output_type": "execute_result"
    }
   ],
   "source": [
    "# Display of total number of players in a data frame\n",
    "uniq_players=len(purchase_read[\"SN\"].unique())\n",
    "total_players=pd.DataFrame({\"Total Players\":[uniq_players]})\n",
    "total_players"
   ]
  },
  {
   "cell_type": "code",
   "execution_count": 5,
   "metadata": {},
   "outputs": [
    {
     "data": {
      "text/html": [
       "<div>\n",
       "<style scoped>\n",
       "    .dataframe tbody tr th:only-of-type {\n",
       "        vertical-align: middle;\n",
       "    }\n",
       "\n",
       "    .dataframe tbody tr th {\n",
       "        vertical-align: top;\n",
       "    }\n",
       "\n",
       "    .dataframe thead th {\n",
       "        text-align: right;\n",
       "    }\n",
       "</style>\n",
       "<table border=\"1\" class=\"dataframe\">\n",
       "  <thead>\n",
       "    <tr style=\"text-align: right;\">\n",
       "      <th></th>\n",
       "      <th>Number of Unique Items</th>\n",
       "      <th>Average Price</th>\n",
       "      <th>Total Purchase</th>\n",
       "      <th>Total Revenue</th>\n",
       "    </tr>\n",
       "  </thead>\n",
       "  <tbody>\n",
       "    <tr>\n",
       "      <th>0</th>\n",
       "      <td>179</td>\n",
       "      <td>3.05</td>\n",
       "      <td>780</td>\n",
       "      <td>2379.77</td>\n",
       "    </tr>\n",
       "  </tbody>\n",
       "</table>\n",
       "</div>"
      ],
      "text/plain": [
       "   Number of Unique Items  Average Price  Total Purchase  Total Revenue\n",
       "0                     179           3.05             780        2379.77"
      ]
     },
     "execution_count": 5,
     "metadata": {},
     "output_type": "execute_result"
    }
   ],
   "source": [
    "# Printing number of unique items, average price, total purchase and total revenue\n",
    "uniq_items=len(purchase_read[\"Item ID\"].unique())\n",
    "avg_price=round(purchase_read[\"Price\"].mean(),2)\n",
    "total_purchase=purchase_read[\"Purchase ID\"].count()\n",
    "total_revenue=purchase_read[\"Price\"].sum()\n",
    "pd.DataFrame({\"Number of Unique Items\":[uniq_items], \"Average Price\":[avg_price], \n",
    "              \"Total Purchase\":[total_purchase], \"Total Revenue\":[total_revenue]})"
   ]
  },
  {
   "cell_type": "code",
   "execution_count": 6,
   "metadata": {},
   "outputs": [],
   "source": [
    "# Gender Demographics\n",
    "male_players=purchase_read.loc[purchase_read[\"Gender\"]==\"Male\",:]                          # conditional checking with .loc\n",
    "male_players_count=len(male_players['SN'].unique())                                        # count of male players with reference to SN column and len funtion\n",
    "female_players=purchase_read.loc[purchase_read[\"Gender\"]==\"Female\",:]\n",
    "female_players_count=len(female_players['SN'].unique())\n",
    "other_players=purchase_read.loc[purchase_read[\"Gender\"]==\"Other / Non-Disclosed\",:]\n",
    "other_players_count=len(other_players['SN'].unique())\n",
    "total_players=other_players_count+female_players_count+male_players_count                  # Total players count"
   ]
  },
  {
   "cell_type": "code",
   "execution_count": 7,
   "metadata": {},
   "outputs": [],
   "source": [
    "gender_df=pd.DataFrame({\"Total Count\":[male_players_count, female_players_count,other_players_count],          # New data frame to get the desired output\n",
    "              \"Percentage of Players\":[\"{0:.2%}\".format(male_players_count/total_players), \n",
    "                                      \"{0:.2%}\".format(female_players_count/total_players),\n",
    "                                      \"{0:.2%}\".format(other_players_count/total_players)]})"
   ]
  },
  {
   "cell_type": "code",
   "execution_count": 8,
   "metadata": {},
   "outputs": [
    {
     "data": {
      "text/html": [
       "<div>\n",
       "<style scoped>\n",
       "    .dataframe tbody tr th:only-of-type {\n",
       "        vertical-align: middle;\n",
       "    }\n",
       "\n",
       "    .dataframe tbody tr th {\n",
       "        vertical-align: top;\n",
       "    }\n",
       "\n",
       "    .dataframe thead th {\n",
       "        text-align: right;\n",
       "    }\n",
       "</style>\n",
       "<table border=\"1\" class=\"dataframe\">\n",
       "  <thead>\n",
       "    <tr style=\"text-align: right;\">\n",
       "      <th></th>\n",
       "      <th>Total Count</th>\n",
       "      <th>Percentage of Players</th>\n",
       "    </tr>\n",
       "  </thead>\n",
       "  <tbody>\n",
       "    <tr>\n",
       "      <th>Male</th>\n",
       "      <td>484</td>\n",
       "      <td>84.03%</td>\n",
       "    </tr>\n",
       "    <tr>\n",
       "      <th>Female</th>\n",
       "      <td>81</td>\n",
       "      <td>14.06%</td>\n",
       "    </tr>\n",
       "    <tr>\n",
       "      <th>Other / Non-Disclosed</th>\n",
       "      <td>11</td>\n",
       "      <td>1.91%</td>\n",
       "    </tr>\n",
       "  </tbody>\n",
       "</table>\n",
       "</div>"
      ],
      "text/plain": [
       "                       Total Count Percentage of Players\n",
       "Male                           484                84.03%\n",
       "Female                          81                14.06%\n",
       "Other / Non-Disclosed           11                 1.91%"
      ]
     },
     "execution_count": 8,
     "metadata": {},
     "output_type": "execute_result"
    }
   ],
   "source": [
    "gender_df.set_index([pd.Index(['Male', 'Female', 'Other / Non-Disclosed'])])                           # Set index as desired using set_index funtion"
   ]
  },
  {
   "cell_type": "code",
   "execution_count": 9,
   "metadata": {},
   "outputs": [],
   "source": [
    "# Purchasing analysis (Gender)\n",
    "male_purchase_count=len(male_players['Purchase ID'].unique())\n",
    "female_purchase_count=len(female_players['Purchase ID'].unique())\n",
    "other_purchase_count=len(other_players['Purchase ID'].unique())\n",
    "male_tot_purchase=male_players['Price'].sum()\n",
    "female_tot_purchase=female_players['Price'].sum()\n",
    "other_tot_purchase=other_players['Price'].sum()"
   ]
  },
  {
   "cell_type": "code",
   "execution_count": 10,
   "metadata": {},
   "outputs": [],
   "source": [
    "purchase_df=pd.DataFrame({'Purchase Count':[male_purchase_count,female_purchase_count,other_purchase_count],               # New data frame to get the desired output\n",
    "                         'Average Purchase Price':['${0:.2f}'.format(male_tot_purchase/male_purchase_count),               # formating values\n",
    "                                                   '${0:.2f}'.format(female_tot_purchase/female_purchase_count),\n",
    "                                                   '${0:.2f}'.format(other_tot_purchase/other_purchase_count)],'Total Purcase Value':[male_tot_purchase,female_tot_purchase,other_tot_purchase],'Avg Total Purchase Per Person':['${0:.2f}'.format(male_tot_purchase/male_players_count),'${0:.2f}'.format(female_tot_purchase/female_players_count),'${0:.2f}'.format(other_tot_purchase/other_players_count)]})"
   ]
  },
  {
   "cell_type": "code",
   "execution_count": 11,
   "metadata": {},
   "outputs": [
    {
     "data": {
      "text/html": [
       "<div>\n",
       "<style scoped>\n",
       "    .dataframe tbody tr th:only-of-type {\n",
       "        vertical-align: middle;\n",
       "    }\n",
       "\n",
       "    .dataframe tbody tr th {\n",
       "        vertical-align: top;\n",
       "    }\n",
       "\n",
       "    .dataframe thead th {\n",
       "        text-align: right;\n",
       "    }\n",
       "</style>\n",
       "<table border=\"1\" class=\"dataframe\">\n",
       "  <thead>\n",
       "    <tr style=\"text-align: right;\">\n",
       "      <th></th>\n",
       "      <th>Purchase Count</th>\n",
       "      <th>Average Purchase Price</th>\n",
       "      <th>Total Purcase Value</th>\n",
       "      <th>Avg Total Purchase Per Person</th>\n",
       "    </tr>\n",
       "  </thead>\n",
       "  <tbody>\n",
       "    <tr>\n",
       "      <th>Male</th>\n",
       "      <td>652</td>\n",
       "      <td>$3.02</td>\n",
       "      <td>1967.64</td>\n",
       "      <td>$4.07</td>\n",
       "    </tr>\n",
       "    <tr>\n",
       "      <th>Female</th>\n",
       "      <td>113</td>\n",
       "      <td>$3.20</td>\n",
       "      <td>361.94</td>\n",
       "      <td>$4.47</td>\n",
       "    </tr>\n",
       "    <tr>\n",
       "      <th>Other / Non-Disclosed</th>\n",
       "      <td>15</td>\n",
       "      <td>$3.35</td>\n",
       "      <td>50.19</td>\n",
       "      <td>$4.56</td>\n",
       "    </tr>\n",
       "  </tbody>\n",
       "</table>\n",
       "</div>"
      ],
      "text/plain": [
       "                       Purchase Count Average Purchase Price  \\\n",
       "Male                              652                  $3.02   \n",
       "Female                            113                  $3.20   \n",
       "Other / Non-Disclosed              15                  $3.35   \n",
       "\n",
       "                       Total Purcase Value Avg Total Purchase Per Person  \n",
       "Male                               1967.64                         $4.07  \n",
       "Female                              361.94                         $4.47  \n",
       "Other / Non-Disclosed                50.19                         $4.56  "
      ]
     },
     "execution_count": 11,
     "metadata": {},
     "output_type": "execute_result"
    }
   ],
   "source": [
    "purchase_df.set_index([pd.Index(['Male', 'Female', 'Other / Non-Disclosed'])])                                            # Set index as per the output"
   ]
  },
  {
   "cell_type": "code",
   "execution_count": 12,
   "metadata": {},
   "outputs": [
    {
     "data": {
      "text/html": [
       "<style  type=\"text/css\" >\n",
       "</style><table id=\"T_caa1ff8f_d628_11eb_bdf3_646c80b0af54\" ><thead>    <tr>        <th class=\"blank level0\" ></th>        <th class=\"col_heading level0 col0\" >Count</th>        <th class=\"col_heading level0 col1\" >Percentage of Players</th>    </tr>    <tr>        <th class=\"index_name level0\" > </th>        <th class=\"blank\" ></th>        <th class=\"blank\" ></th>    </tr></thead><tbody>\n",
       "                <tr>\n",
       "                        <th id=\"T_caa1ff8f_d628_11eb_bdf3_646c80b0af54level0_row0\" class=\"row_heading level0 row0\" ><10</th>\n",
       "                        <td id=\"T_caa1ff8f_d628_11eb_bdf3_646c80b0af54row0_col0\" class=\"data row0 col0\" >17</td>\n",
       "                        <td id=\"T_caa1ff8f_d628_11eb_bdf3_646c80b0af54row0_col1\" class=\"data row0 col1\" >2.95%</td>\n",
       "            </tr>\n",
       "            <tr>\n",
       "                        <th id=\"T_caa1ff8f_d628_11eb_bdf3_646c80b0af54level0_row1\" class=\"row_heading level0 row1\" >10-14</th>\n",
       "                        <td id=\"T_caa1ff8f_d628_11eb_bdf3_646c80b0af54row1_col0\" class=\"data row1 col0\" >22</td>\n",
       "                        <td id=\"T_caa1ff8f_d628_11eb_bdf3_646c80b0af54row1_col1\" class=\"data row1 col1\" >3.82%</td>\n",
       "            </tr>\n",
       "            <tr>\n",
       "                        <th id=\"T_caa1ff8f_d628_11eb_bdf3_646c80b0af54level0_row2\" class=\"row_heading level0 row2\" >15-19</th>\n",
       "                        <td id=\"T_caa1ff8f_d628_11eb_bdf3_646c80b0af54row2_col0\" class=\"data row2 col0\" >107</td>\n",
       "                        <td id=\"T_caa1ff8f_d628_11eb_bdf3_646c80b0af54row2_col1\" class=\"data row2 col1\" >18.58%</td>\n",
       "            </tr>\n",
       "            <tr>\n",
       "                        <th id=\"T_caa1ff8f_d628_11eb_bdf3_646c80b0af54level0_row3\" class=\"row_heading level0 row3\" >20-24</th>\n",
       "                        <td id=\"T_caa1ff8f_d628_11eb_bdf3_646c80b0af54row3_col0\" class=\"data row3 col0\" >258</td>\n",
       "                        <td id=\"T_caa1ff8f_d628_11eb_bdf3_646c80b0af54row3_col1\" class=\"data row3 col1\" >44.79%</td>\n",
       "            </tr>\n",
       "            <tr>\n",
       "                        <th id=\"T_caa1ff8f_d628_11eb_bdf3_646c80b0af54level0_row4\" class=\"row_heading level0 row4\" >25-29</th>\n",
       "                        <td id=\"T_caa1ff8f_d628_11eb_bdf3_646c80b0af54row4_col0\" class=\"data row4 col0\" >77</td>\n",
       "                        <td id=\"T_caa1ff8f_d628_11eb_bdf3_646c80b0af54row4_col1\" class=\"data row4 col1\" >13.37%</td>\n",
       "            </tr>\n",
       "            <tr>\n",
       "                        <th id=\"T_caa1ff8f_d628_11eb_bdf3_646c80b0af54level0_row5\" class=\"row_heading level0 row5\" >30-34</th>\n",
       "                        <td id=\"T_caa1ff8f_d628_11eb_bdf3_646c80b0af54row5_col0\" class=\"data row5 col0\" >52</td>\n",
       "                        <td id=\"T_caa1ff8f_d628_11eb_bdf3_646c80b0af54row5_col1\" class=\"data row5 col1\" >9.03%</td>\n",
       "            </tr>\n",
       "            <tr>\n",
       "                        <th id=\"T_caa1ff8f_d628_11eb_bdf3_646c80b0af54level0_row6\" class=\"row_heading level0 row6\" >35-39</th>\n",
       "                        <td id=\"T_caa1ff8f_d628_11eb_bdf3_646c80b0af54row6_col0\" class=\"data row6 col0\" >31</td>\n",
       "                        <td id=\"T_caa1ff8f_d628_11eb_bdf3_646c80b0af54row6_col1\" class=\"data row6 col1\" >5.38%</td>\n",
       "            </tr>\n",
       "            <tr>\n",
       "                        <th id=\"T_caa1ff8f_d628_11eb_bdf3_646c80b0af54level0_row7\" class=\"row_heading level0 row7\" >40+</th>\n",
       "                        <td id=\"T_caa1ff8f_d628_11eb_bdf3_646c80b0af54row7_col0\" class=\"data row7 col0\" >12</td>\n",
       "                        <td id=\"T_caa1ff8f_d628_11eb_bdf3_646c80b0af54row7_col1\" class=\"data row7 col1\" >2.08%</td>\n",
       "            </tr>\n",
       "    </tbody></table>"
      ],
      "text/plain": [
       "<pandas.io.formats.style.Styler at 0x263bb934b20>"
      ]
     },
     "execution_count": 12,
     "metadata": {},
     "output_type": "execute_result"
    }
   ],
   "source": [
    "# Age Demographics\n",
    "bins=[0,9,14,19,24,29,34,39,100]                                                          # bins/buckets for groupig data\n",
    "age_group=['<10','10-14','15-19','20-24','25-29','30-34','35-39','40+']                   # labels in accordance with the bin values\n",
    "purchase_read[' ']=pd.cut(purchase_read.Age, bins, labels=age_group)                      # pd.cut is used to cut data with bin values\n",
    "purchase_read=purchase_read.drop_duplicates(['SN'])                                       # dataframe is rearranging based \"SN\" values\n",
    "df=purchase_read.sort_values('Age').groupby(' ').count()                                  # data values sorted with Age and then arranged by groupby and count functions\n",
    "df=pd.DataFrame({\"Count\":(df.Age), 'Percentage of Players':(df.Age/576)})                 # A new dataframe is created to the desired output\n",
    "df.style.format({'Percentage of Players': \"{0:.2%}\"})                                     # style formatting into percentage"
   ]
  },
  {
   "cell_type": "code",
   "execution_count": null,
   "metadata": {},
   "outputs": [],
   "source": []
  },
  {
   "cell_type": "code",
   "execution_count": null,
   "metadata": {},
   "outputs": [],
   "source": []
  }
 ],
 "metadata": {
  "kernelspec": {
   "display_name": "Python 3",
   "language": "python",
   "name": "python3"
  },
  "language_info": {
   "codemirror_mode": {
    "name": "ipython",
    "version": 3
   },
   "file_extension": ".py",
   "mimetype": "text/x-python",
   "name": "python",
   "nbconvert_exporter": "python",
   "pygments_lexer": "ipython3",
   "version": "3.8.5"
  }
 },
 "nbformat": 4,
 "nbformat_minor": 4
}
