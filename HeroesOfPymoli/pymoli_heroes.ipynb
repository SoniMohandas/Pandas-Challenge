{
 "cells": [
  {
   "cell_type": "code",
   "execution_count": null,
   "metadata": {},
   "outputs": [],
   "source": [
    "# Dependencies and Setup\n",
    "import pandas as pd\n",
    "import numpy as np\n",
    "from IPython.display import display"
   ]
  },
  {
   "cell_type": "code",
   "execution_count": null,
   "metadata": {},
   "outputs": [],
   "source": [
    "# Specifying file path\n",
    "file_path=\"Resources/purchase_data.csv\""
   ]
  },
  {
   "cell_type": "code",
   "execution_count": null,
   "metadata": {},
   "outputs": [],
   "source": [
    "# Read purchase_data file and stores into pandas data frame\n",
    "purchase_read=pd.read_csv(file_path, delimiter=',').copy()\n",
    "# Copy of dataframe created to keep the original in its own\n",
    "players_df = pd.DataFrame(purchase_read).copy()\n",
    "players_df.head()"
   ]
  },
  {
   "cell_type": "code",
   "execution_count": null,
   "metadata": {},
   "outputs": [],
   "source": [
    "# Unique value of SN gives total number of players\n",
    "uniq_players=len(players_df[\"SN\"].unique())\n",
    "# Display of total number of players in a data frame\n",
    "total_players=pd.DataFrame({\"Total Players\":[uniq_players]})\n",
    "total_players"
   ]
  },
  {
   "cell_type": "code",
   "execution_count": null,
   "metadata": {},
   "outputs": [],
   "source": [
    "# Length of series of Item Id unique value is equal to number of unique items\n",
    "uniq_items=len(players_df[\"Item ID\"].unique())\n",
    "# Calculating average of Price\n",
    "avg_price=round(players_df[\"Price\"].mean(),2)\n",
    "# Counting purchase id gives total purchase\n",
    "total_purchase=players_df[\"Purchase ID\"].count()\n",
    "# Sum of Price series gives total revenue\n",
    "total_revenue=players_df[\"Price\"].sum()\n",
    "# A dataframe created for the disired output\n",
    "purchase_analysis=pd.DataFrame({\"Number of Unique Items\":[uniq_items], \"Average Price\":[avg_price], \n",
    "              \"Total Purchase\":[total_purchase], \"Total Revenue\":[total_revenue]})\n",
    "# Style formatting to get $ sign and two decimal places\n",
    "purchase_analysis.style.format({'Average Price': \"${0:.2f}\", \"Total Revenue\":\"${0:.2f}\"})"
   ]
  },
  {
   "cell_type": "code",
   "execution_count": null,
   "metadata": {},
   "outputs": [],
   "source": [
    "# Gender Demographics\n",
    "# Duplicates are droping the SN column\n",
    "dup_drop_sn=players_df.drop_duplicates(['SN'])\n",
    "# Grouping based on gender with above series\n",
    "gender_demo=dup_drop_sn.groupby('Gender')\n",
    "# Gender count from grouped data\n",
    "total_count=gender_demo['Gender'].count()\n",
    "# Calculating total players using the sum function\n",
    "demo_total=total_count.sum()\n",
    "# New dataframe created for the gender demographics\n",
    "gender_demo_df=pd.DataFrame({\"Total Count\":total_count, \n",
    "                             \"Percentage of Players\":total_count/demo_total})\n",
    "# Style formatting to get two decimal places with percentage sign\n",
    "gender_demo_df.style.format({'Percentage of Players': \"{0:.2%}\"})"
   ]
  },
  {
   "cell_type": "code",
   "execution_count": null,
   "metadata": {},
   "outputs": [],
   "source": [
    "# Calculating purchasing analysis (Gender)\n",
    "male_players=players_df.loc[players_df[\"Gender\"]==\"Male\",:]\n",
    "# count of male players with reference to column SN and len funtion\n",
    "male_players_count=len(male_players['SN'].unique())                                        \n",
    "female_players=players_df.loc[players_df[\"Gender\"]==\"Female\",:]\n",
    "female_players_count=len(female_players['SN'].unique())\n",
    "other_players=players_df.loc[players_df[\"Gender\"]==\"Other / Non-Disclosed\",:]\n",
    "other_players_count=len(other_players['SN'].unique())\n",
    "\n",
    "male_purchase_count=len(male_players['Purchase ID'].unique())\n",
    "female_purchase_count=len(female_players['Purchase ID'].unique())\n",
    "other_purchase_count=len(other_players['Purchase ID'].unique())\n",
    "male_tot_purchase=male_players['Price'].sum()\n",
    "female_tot_purchase=female_players['Price'].sum()\n",
    "other_tot_purchase=other_players['Price'].sum()\n",
    "\n",
    "# purchasing analysis dataframe(Gender)\n",
    "purchase_df=pd.DataFrame({'Purchase Count':[male_purchase_count,female_purchase_count,other_purchase_count],\n",
    "                         'Average Purchase Price':['${0:.2f}'.format(male_tot_purchase/male_purchase_count),\n",
    "                                                   '${0:.2f}'.format(female_tot_purchase/female_purchase_count),\n",
    "                                                   '${0:.2f}'.format(other_tot_purchase/other_purchase_count)],\n",
    "                          'Total Purcase Value':[male_tot_purchase,female_tot_purchase,other_tot_purchase],\n",
    "                          'Avg Total Purchase Per Person':['${0:.2f}'.format(male_tot_purchase/male_players_count),\n",
    "                                                           '${0:.2f}'.format(female_tot_purchase/female_players_count),\n",
    "                                                           '${0:.2f}'.format(other_tot_purchase/other_players_count)]})\n",
    "\n",
    "# Set index as per the output\n",
    "purchase_df.set_index([pd.Index(['Male', 'Female', 'Other / Non-Disclosed'])])"
   ]
  },
  {
   "cell_type": "code",
   "execution_count": null,
   "metadata": {},
   "outputs": [],
   "source": [
    "# Calculating age Demographics of players\n",
    "# Bins/buckets for groupig data\n",
    "bins=[0,9,14,19,24,29,34,39,100]\n",
    "# Labels in accordance with the bin values\n",
    "age_group=['<10','10-14','15-19','20-24','25-29','30-34','35-39','40+'] \n",
    "# pd.cut is used to cut data with bin values\n",
    "players_df['Age Ranges']=pd.cut(players_df.Age, bins, labels=age_group) \n",
    "# Data cleaning based \"SN\" values\n",
    "age_demo=players_df.drop_duplicates(['SN']) \n",
    "# Values sorted based on Age and then grouping by age ranges and count functions\n",
    "df=age_demo.sort_values('Age').groupby('Age Ranges').count() \n",
    "# A new dataframe is created for the age demographics\n",
    "df=pd.DataFrame({\"Count\":(df.Age), 'Percentage of Players':(df.Age/576)})\n",
    "# Style formatting into percentage\n",
    "df.style.format({'Percentage of Players': \"{0:.2%}\"})                                     "
   ]
  },
  {
   "cell_type": "code",
   "execution_count": null,
   "metadata": {},
   "outputs": [],
   "source": [
    "# Calculating purchasing analysis by age\n",
    "# Sorting dataframe by Age and grouping by Age Ranges\n",
    "age_ranges=players_df.sort_values('Age').groupby('Age Ranges').count()\n",
    "# Calculating purchase count with age\n",
    "purchase_count=age_ranges.Age\n",
    "# Calculating average purchase price \n",
    "pur_analysis=players_df.sort_values('Age').groupby('Age Ranges')\n",
    "avg_purchase_price=pur_analysis.Price.mean()\n",
    "# Calculating total purchase price\n",
    "tot_purchase_price=pur_analysis.Price.sum()\n",
    "\n",
    "# Average total purchase per person\n",
    "# Droping duplicates of column SN and sorting and grouping to get the count\n",
    "tot_uniq_person=players_df.drop_duplicates(['SN'])\n",
    "uniq_person_grp=tot_uniq_person.sort_values('Age').groupby('Age Ranges')\n",
    "# Finding the the count in ranges based on 'Purchase ID'\n",
    "range_person_count=uniq_person_grp['Purchase ID'].count()\n",
    "# Finding the average\n",
    "avg_purchase_per_person=tot_purchase_price/range_person_count\n",
    "\n",
    "# Purchase analysis(age) dataframe\n",
    "purchase_analysis=pd.DataFrame({\"Purchase Count\":purchase_count, \"Average Purchase Price\":\n",
    "                            avg_purchase_price, \"Total Purchase Value\":tot_purchase_price,\n",
    "                               \"Avg Total Purchase Per Person\":avg_purchase_per_person})\n",
    "\n",
    "# Style formating the dataframe to get $ sign and two decimal places\n",
    "purchase_analysis.style.format({'Average Purchase Price': \"${0:.2f}\", \"Total Purchase Value\":\"${0:.2f}\",\n",
    "                               \"Avg Total Purchase Per Person\":\"${0:.2f}\"})"
   ]
  },
  {
   "cell_type": "code",
   "execution_count": null,
   "metadata": {},
   "outputs": [],
   "source": [
    "# Calculating top spenders\n",
    "# Grouping based on column SN\n",
    "group_sn = players_df.groupby('SN')\n",
    "# Calculating the sum of Price\n",
    "p_value=group_sn.Price.sum()\n",
    "# Purchase count of top spenders\n",
    "p_count=group_sn['Item ID'].count()\n",
    "\n",
    "# Top spenders datafram\n",
    "top_spenders=pd.DataFrame({\"Purchase Count\":p_count,\"Average Purchase Price\":p_value/p_count,\"Total Purchase Value\":p_value})\n",
    "\n",
    "# Style formatting the dataframe in the descending order of Total Purchase Value\n",
    "top_spenders.sort_values(by=['Total Purchase Value'],ascending=False).head().style.format({\n",
    "    'Average Purchase Price': \"${0:.2f}\", \"Total Purchase Value\":\"${0:.2f}\"})\n"
   ]
  },
  {
   "cell_type": "code",
   "execution_count": null,
   "metadata": {},
   "outputs": [],
   "source": [
    "# Calculating most popular items\n",
    "# Retrieve the Item ID, Item Name, and Item Price columns\n",
    "item_df=players_df[['Item ID', 'Item Name', 'Price']]\n",
    "# Group by Item ID and Item Name\n",
    "item_group=item_df.groupby(['Item ID', 'Item Name'])\n",
    "# purchase count calculated by Item ID\n",
    "phs_count=item_group['Item ID'].count()\n",
    "# purchase sum calculated by Price\n",
    "phs_value=item_group['Price'].sum()\n",
    "\n",
    "# Most popular items dataframe\n",
    "most_pop_items=pd.DataFrame({\"Purchase Count\":phs_count, \"Item Price\":round(phs_value/phs_count,2),\n",
    "                             \"Total Purchase Value\":phs_value})\n",
    "# Rearranging dataframe based on purchase count and style formatting to get two decimal places with $ sign\n",
    "most_pop_items.sort_values(by=['Purchase Count'],ascending=False).head().style.format({\n",
    "    'Item Price': \"${0:.2f}\", \"Total Purchase Value\":\"${0:.2f}\"})"
   ]
  },
  {
   "cell_type": "code",
   "execution_count": null,
   "metadata": {},
   "outputs": [],
   "source": [
    "# Calculating most pofitable items\n",
    "# New dataframe based on Total Purchase Value and style formatting to get two decimal places with $ sign\n",
    "most_pop_items.sort_values(by=['Total Purchase Value'],ascending=False).head().style.format({\n",
    "    'Item Price': \"${0:.2f}\", \"Total Purchase Value\":\"${0:.2f}\"})"
   ]
  }
 ],
 "metadata": {
  "kernelspec": {
   "display_name": "Python 3",
   "language": "python",
   "name": "python3"
  },
  "language_info": {
   "codemirror_mode": {
    "name": "ipython",
    "version": 3
   },
   "file_extension": ".py",
   "mimetype": "text/x-python",
   "name": "python",
   "nbconvert_exporter": "python",
   "pygments_lexer": "ipython3",
   "version": "3.8.5"
  }
 },
 "nbformat": 4,
 "nbformat_minor": 4
}
