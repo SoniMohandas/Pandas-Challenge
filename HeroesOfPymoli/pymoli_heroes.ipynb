{
 "cells": [
  {
   "cell_type": "code",
   "execution_count": 1,
   "metadata": {},
   "outputs": [],
   "source": [
    "# Dependencies and Setup\n",
    "import pandas as pd\n",
    "import numpy as np\n",
    "from IPython.display import display"
   ]
  },
  {
   "cell_type": "code",
   "execution_count": 2,
   "metadata": {},
   "outputs": [],
   "source": [
    "# Specifying file path\n",
    "file_path=\"Resources/purchase_data.csv\""
   ]
  },
  {
   "cell_type": "code",
   "execution_count": 3,
   "metadata": {},
   "outputs": [
    {
     "data": {
      "text/html": [
       "<div>\n",
       "<style scoped>\n",
       "    .dataframe tbody tr th:only-of-type {\n",
       "        vertical-align: middle;\n",
       "    }\n",
       "\n",
       "    .dataframe tbody tr th {\n",
       "        vertical-align: top;\n",
       "    }\n",
       "\n",
       "    .dataframe thead th {\n",
       "        text-align: right;\n",
       "    }\n",
       "</style>\n",
       "<table border=\"1\" class=\"dataframe\">\n",
       "  <thead>\n",
       "    <tr style=\"text-align: right;\">\n",
       "      <th></th>\n",
       "      <th>Purchase ID</th>\n",
       "      <th>SN</th>\n",
       "      <th>Age</th>\n",
       "      <th>Gender</th>\n",
       "      <th>Item ID</th>\n",
       "      <th>Item Name</th>\n",
       "      <th>Price</th>\n",
       "    </tr>\n",
       "  </thead>\n",
       "  <tbody>\n",
       "    <tr>\n",
       "      <th>0</th>\n",
       "      <td>0</td>\n",
       "      <td>Lisim78</td>\n",
       "      <td>20</td>\n",
       "      <td>Male</td>\n",
       "      <td>108</td>\n",
       "      <td>Extraction, Quickblade Of Trembling Hands</td>\n",
       "      <td>3.53</td>\n",
       "    </tr>\n",
       "    <tr>\n",
       "      <th>1</th>\n",
       "      <td>1</td>\n",
       "      <td>Lisovynya38</td>\n",
       "      <td>40</td>\n",
       "      <td>Male</td>\n",
       "      <td>143</td>\n",
       "      <td>Frenzied Scimitar</td>\n",
       "      <td>1.56</td>\n",
       "    </tr>\n",
       "    <tr>\n",
       "      <th>2</th>\n",
       "      <td>2</td>\n",
       "      <td>Ithergue48</td>\n",
       "      <td>24</td>\n",
       "      <td>Male</td>\n",
       "      <td>92</td>\n",
       "      <td>Final Critic</td>\n",
       "      <td>4.88</td>\n",
       "    </tr>\n",
       "    <tr>\n",
       "      <th>3</th>\n",
       "      <td>3</td>\n",
       "      <td>Chamassasya86</td>\n",
       "      <td>24</td>\n",
       "      <td>Male</td>\n",
       "      <td>100</td>\n",
       "      <td>Blindscythe</td>\n",
       "      <td>3.27</td>\n",
       "    </tr>\n",
       "    <tr>\n",
       "      <th>4</th>\n",
       "      <td>4</td>\n",
       "      <td>Iskosia90</td>\n",
       "      <td>23</td>\n",
       "      <td>Male</td>\n",
       "      <td>131</td>\n",
       "      <td>Fury</td>\n",
       "      <td>1.44</td>\n",
       "    </tr>\n",
       "  </tbody>\n",
       "</table>\n",
       "</div>"
      ],
      "text/plain": [
       "   Purchase ID             SN  Age Gender  Item ID  \\\n",
       "0            0        Lisim78   20   Male      108   \n",
       "1            1    Lisovynya38   40   Male      143   \n",
       "2            2     Ithergue48   24   Male       92   \n",
       "3            3  Chamassasya86   24   Male      100   \n",
       "4            4      Iskosia90   23   Male      131   \n",
       "\n",
       "                                   Item Name  Price  \n",
       "0  Extraction, Quickblade Of Trembling Hands   3.53  \n",
       "1                          Frenzied Scimitar   1.56  \n",
       "2                               Final Critic   4.88  \n",
       "3                                Blindscythe   3.27  \n",
       "4                                       Fury   1.44  "
      ]
     },
     "execution_count": 3,
     "metadata": {},
     "output_type": "execute_result"
    }
   ],
   "source": [
    "# Read purchase_data file and stores into pandas data frame\n",
    "purchase_read=pd.read_csv(file_path, delimiter=',')\n",
    "\n",
    "# Copy of dataframe created to keep the original in its own\n",
    "players_df = purchase_read.copy()\n",
    "gender_df= purchase_read.copy()\n",
    "players_df.head()"
   ]
  },
  {
   "cell_type": "code",
   "execution_count": 4,
   "metadata": {},
   "outputs": [
    {
     "data": {
      "text/html": [
       "<div>\n",
       "<style scoped>\n",
       "    .dataframe tbody tr th:only-of-type {\n",
       "        vertical-align: middle;\n",
       "    }\n",
       "\n",
       "    .dataframe tbody tr th {\n",
       "        vertical-align: top;\n",
       "    }\n",
       "\n",
       "    .dataframe thead th {\n",
       "        text-align: right;\n",
       "    }\n",
       "</style>\n",
       "<table border=\"1\" class=\"dataframe\">\n",
       "  <thead>\n",
       "    <tr style=\"text-align: right;\">\n",
       "      <th></th>\n",
       "      <th>Total Players</th>\n",
       "    </tr>\n",
       "  </thead>\n",
       "  <tbody>\n",
       "    <tr>\n",
       "      <th>0</th>\n",
       "      <td>576</td>\n",
       "    </tr>\n",
       "  </tbody>\n",
       "</table>\n",
       "</div>"
      ],
      "text/plain": [
       "   Total Players\n",
       "0            576"
      ]
     },
     "execution_count": 4,
     "metadata": {},
     "output_type": "execute_result"
    }
   ],
   "source": [
    "# Unique value of SN gives total number of players\n",
    "uniq_players=len(players_df[\"SN\"].unique())\n",
    "# Display of total number of players in a data frame\n",
    "total_players=pd.DataFrame({\"Total Players\":[uniq_players]})\n",
    "total_players"
   ]
  },
  {
   "cell_type": "code",
   "execution_count": 5,
   "metadata": {},
   "outputs": [
    {
     "data": {
      "text/html": [
       "<style  type=\"text/css\" >\n",
       "</style><table id=\"T_28b2ccc0_d86f_11eb_b550_646c80b0af54\" ><thead>    <tr>        <th class=\"blank level0\" ></th>        <th class=\"col_heading level0 col0\" >Number of Unique Items</th>        <th class=\"col_heading level0 col1\" >Average Price</th>        <th class=\"col_heading level0 col2\" >Total Purchase</th>        <th class=\"col_heading level0 col3\" >Total Revenue</th>    </tr></thead><tbody>\n",
       "                <tr>\n",
       "                        <th id=\"T_28b2ccc0_d86f_11eb_b550_646c80b0af54level0_row0\" class=\"row_heading level0 row0\" >0</th>\n",
       "                        <td id=\"T_28b2ccc0_d86f_11eb_b550_646c80b0af54row0_col0\" class=\"data row0 col0\" >179</td>\n",
       "                        <td id=\"T_28b2ccc0_d86f_11eb_b550_646c80b0af54row0_col1\" class=\"data row0 col1\" >$3.05</td>\n",
       "                        <td id=\"T_28b2ccc0_d86f_11eb_b550_646c80b0af54row0_col2\" class=\"data row0 col2\" >780</td>\n",
       "                        <td id=\"T_28b2ccc0_d86f_11eb_b550_646c80b0af54row0_col3\" class=\"data row0 col3\" >$2379.77</td>\n",
       "            </tr>\n",
       "    </tbody></table>"
      ],
      "text/plain": [
       "<pandas.io.formats.style.Styler at 0x2bce1442310>"
      ]
     },
     "execution_count": 5,
     "metadata": {},
     "output_type": "execute_result"
    }
   ],
   "source": [
    "# Length of series of Item Id unique value is equal to number of unique items\n",
    "uniq_items=len(players_df[\"Item ID\"].unique())\n",
    "# Calculating average of Price\n",
    "avg_price=round(players_df[\"Price\"].mean(),2)\n",
    "# Counting purchase id gives total purchase\n",
    "total_purchase=players_df[\"Purchase ID\"].count()\n",
    "# Sum of Price series gives total revenue\n",
    "total_revenue=players_df[\"Price\"].sum()\n",
    "# A dataframe created for the disired output\n",
    "purchase_analysis=pd.DataFrame({\"Number of Unique Items\":[uniq_items],\n",
    "                                \"Average Price\":[avg_price],\"Total Purchase\":[total_purchase],\n",
    "                                \"Total Revenue\":[total_revenue]})\n",
    "# Style formatting to get $ sign and two decimal places\n",
    "purchase_analysis.style.format({'Average Price': \"${0:.2f}\", \"Total Revenue\":\"${0:.2f}\"})"
   ]
  },
  {
   "cell_type": "code",
   "execution_count": 6,
   "metadata": {},
   "outputs": [
    {
     "data": {
      "text/html": [
       "<style  type=\"text/css\" >\n",
       "</style><table id=\"T_28b9d1fc_d86f_11eb_bb47_646c80b0af54\" ><thead>    <tr>        <th class=\"blank level0\" ></th>        <th class=\"col_heading level0 col0\" >Total Count</th>        <th class=\"col_heading level0 col1\" >Percentage of Players</th>    </tr>    <tr>        <th class=\"index_name level0\" >Gender</th>        <th class=\"blank\" ></th>        <th class=\"blank\" ></th>    </tr></thead><tbody>\n",
       "                <tr>\n",
       "                        <th id=\"T_28b9d1fc_d86f_11eb_bb47_646c80b0af54level0_row0\" class=\"row_heading level0 row0\" >Female</th>\n",
       "                        <td id=\"T_28b9d1fc_d86f_11eb_bb47_646c80b0af54row0_col0\" class=\"data row0 col0\" >81</td>\n",
       "                        <td id=\"T_28b9d1fc_d86f_11eb_bb47_646c80b0af54row0_col1\" class=\"data row0 col1\" >14.06%</td>\n",
       "            </tr>\n",
       "            <tr>\n",
       "                        <th id=\"T_28b9d1fc_d86f_11eb_bb47_646c80b0af54level0_row1\" class=\"row_heading level0 row1\" >Male</th>\n",
       "                        <td id=\"T_28b9d1fc_d86f_11eb_bb47_646c80b0af54row1_col0\" class=\"data row1 col0\" >484</td>\n",
       "                        <td id=\"T_28b9d1fc_d86f_11eb_bb47_646c80b0af54row1_col1\" class=\"data row1 col1\" >84.03%</td>\n",
       "            </tr>\n",
       "            <tr>\n",
       "                        <th id=\"T_28b9d1fc_d86f_11eb_bb47_646c80b0af54level0_row2\" class=\"row_heading level0 row2\" >Other / Non-Disclosed</th>\n",
       "                        <td id=\"T_28b9d1fc_d86f_11eb_bb47_646c80b0af54row2_col0\" class=\"data row2 col0\" >11</td>\n",
       "                        <td id=\"T_28b9d1fc_d86f_11eb_bb47_646c80b0af54row2_col1\" class=\"data row2 col1\" >1.91%</td>\n",
       "            </tr>\n",
       "    </tbody></table>"
      ],
      "text/plain": [
       "<pandas.io.formats.style.Styler at 0x2bce221a130>"
      ]
     },
     "execution_count": 6,
     "metadata": {},
     "output_type": "execute_result"
    }
   ],
   "source": [
    "# Gender Demographics\n",
    "# Duplicates are droping the SN column\n",
    "dup_drop_sn=players_df.drop_duplicates(['SN'])\n",
    "# Grouping based on gender with above series\n",
    "gender_demo=dup_drop_sn.groupby('Gender')\n",
    "# Gender count from grouped data\n",
    "total_count=gender_demo['Gender'].count()\n",
    "# Calculating total players using the sum function\n",
    "demo_total=total_count.sum()\n",
    "# New dataframe created for the gender demographics\n",
    "gender_demo_df=pd.DataFrame({\"Total Count\":total_count, \n",
    "                             \"Percentage of Players\":total_count/demo_total})\n",
    "# Style formatting to get two decimal places with percentage sign\n",
    "gender_demo_df.style.format({'Percentage of Players': \"{0:.2%}\"})"
   ]
  },
  {
   "cell_type": "code",
   "execution_count": 7,
   "metadata": {},
   "outputs": [
    {
     "data": {
      "text/html": [
       "<style  type=\"text/css\" >\n",
       "</style><table id=\"T_28beb3d1_d86f_11eb_bdbe_646c80b0af54\" ><thead>    <tr>        <th class=\"blank level0\" ></th>        <th class=\"col_heading level0 col0\" >Purchase Count</th>        <th class=\"col_heading level0 col1\" >Average Purchase Price</th>        <th class=\"col_heading level0 col2\" >Total Purchase Value</th>        <th class=\"col_heading level0 col3\" >Avg Total Purchase Per Person</th>    </tr>    <tr>        <th class=\"index_name level0\" >Gender</th>        <th class=\"blank\" ></th>        <th class=\"blank\" ></th>        <th class=\"blank\" ></th>        <th class=\"blank\" ></th>    </tr></thead><tbody>\n",
       "                <tr>\n",
       "                        <th id=\"T_28beb3d1_d86f_11eb_bdbe_646c80b0af54level0_row0\" class=\"row_heading level0 row0\" >Female</th>\n",
       "                        <td id=\"T_28beb3d1_d86f_11eb_bdbe_646c80b0af54row0_col0\" class=\"data row0 col0\" >113</td>\n",
       "                        <td id=\"T_28beb3d1_d86f_11eb_bdbe_646c80b0af54row0_col1\" class=\"data row0 col1\" >$3.20</td>\n",
       "                        <td id=\"T_28beb3d1_d86f_11eb_bdbe_646c80b0af54row0_col2\" class=\"data row0 col2\" >$361.94</td>\n",
       "                        <td id=\"T_28beb3d1_d86f_11eb_bdbe_646c80b0af54row0_col3\" class=\"data row0 col3\" >$4.47</td>\n",
       "            </tr>\n",
       "            <tr>\n",
       "                        <th id=\"T_28beb3d1_d86f_11eb_bdbe_646c80b0af54level0_row1\" class=\"row_heading level0 row1\" >Male</th>\n",
       "                        <td id=\"T_28beb3d1_d86f_11eb_bdbe_646c80b0af54row1_col0\" class=\"data row1 col0\" >652</td>\n",
       "                        <td id=\"T_28beb3d1_d86f_11eb_bdbe_646c80b0af54row1_col1\" class=\"data row1 col1\" >$3.02</td>\n",
       "                        <td id=\"T_28beb3d1_d86f_11eb_bdbe_646c80b0af54row1_col2\" class=\"data row1 col2\" >$1967.64</td>\n",
       "                        <td id=\"T_28beb3d1_d86f_11eb_bdbe_646c80b0af54row1_col3\" class=\"data row1 col3\" >$4.07</td>\n",
       "            </tr>\n",
       "            <tr>\n",
       "                        <th id=\"T_28beb3d1_d86f_11eb_bdbe_646c80b0af54level0_row2\" class=\"row_heading level0 row2\" >Other / Non-Disclosed</th>\n",
       "                        <td id=\"T_28beb3d1_d86f_11eb_bdbe_646c80b0af54row2_col0\" class=\"data row2 col0\" >15</td>\n",
       "                        <td id=\"T_28beb3d1_d86f_11eb_bdbe_646c80b0af54row2_col1\" class=\"data row2 col1\" >$3.35</td>\n",
       "                        <td id=\"T_28beb3d1_d86f_11eb_bdbe_646c80b0af54row2_col2\" class=\"data row2 col2\" >$50.19</td>\n",
       "                        <td id=\"T_28beb3d1_d86f_11eb_bdbe_646c80b0af54row2_col3\" class=\"data row2 col3\" >$4.56</td>\n",
       "            </tr>\n",
       "    </tbody></table>"
      ],
      "text/plain": [
       "<pandas.io.formats.style.Styler at 0x2bce24f07f0>"
      ]
     },
     "execution_count": 7,
     "metadata": {},
     "output_type": "execute_result"
    }
   ],
   "source": [
    "# Calculating purchasing analysis (Gender)\n",
    "\n",
    "# Copied from the original dataframe\n",
    "gender_df\n",
    "\n",
    "# Calculating gender purchase count\n",
    "purchase_count = gender_df.groupby(\"Gender\")['Purchase ID'].count()\n",
    "\n",
    "# Calculating total purchase value\n",
    "tot_purchase_value=gender_df.groupby(\"Gender\")['Price'].sum()\n",
    "\n",
    "# Calculating average purchase price\n",
    "avg_purch_price=tot_purchase_value/purchase_count\n",
    "\n",
    "# Calculating uniq SN count group by Gender\n",
    "uniq_sn_count=gender_df.groupby('Gender')['SN'].nunique()\n",
    "\n",
    "# Calculating average total purchase per person\n",
    "avg_tot_purch_per_person=tot_purchase_value/uniq_sn_count\n",
    "\n",
    "# Dataframe for the desired tabular output\n",
    "purchase_df=pd.DataFrame({'Purchase Count':purchase_count,\n",
    "                         'Average Purchase Price':avg_purch_price,\n",
    "                          'Total Purchase Value':tot_purchase_value,\n",
    "                          'Avg Total Purchase Per Person':avg_tot_purch_per_person})\n",
    "\n",
    "# Style formating the dataframe\n",
    "purchase_df.style.format({'Average Purchase Price': \"${0:.2f}\",\n",
    "                                \"Total Purchase Value\":\"${0:.2f}\",\n",
    "                                \"Avg Total Purchase Per Person\":\"${0:.2f}\"})"
   ]
  },
  {
   "cell_type": "code",
   "execution_count": 8,
   "metadata": {},
   "outputs": [
    {
     "data": {
      "text/html": [
       "<style  type=\"text/css\" >\n",
       "</style><table id=\"T_28c4ce7e_d86f_11eb_8cf1_646c80b0af54\" ><thead>    <tr>        <th class=\"blank level0\" ></th>        <th class=\"col_heading level0 col0\" >Count</th>        <th class=\"col_heading level0 col1\" >Percentage of Players</th>    </tr>    <tr>        <th class=\"index_name level0\" >Age Ranges</th>        <th class=\"blank\" ></th>        <th class=\"blank\" ></th>    </tr></thead><tbody>\n",
       "                <tr>\n",
       "                        <th id=\"T_28c4ce7e_d86f_11eb_8cf1_646c80b0af54level0_row0\" class=\"row_heading level0 row0\" ><10</th>\n",
       "                        <td id=\"T_28c4ce7e_d86f_11eb_8cf1_646c80b0af54row0_col0\" class=\"data row0 col0\" >17</td>\n",
       "                        <td id=\"T_28c4ce7e_d86f_11eb_8cf1_646c80b0af54row0_col1\" class=\"data row0 col1\" >2.95%</td>\n",
       "            </tr>\n",
       "            <tr>\n",
       "                        <th id=\"T_28c4ce7e_d86f_11eb_8cf1_646c80b0af54level0_row1\" class=\"row_heading level0 row1\" >10-14</th>\n",
       "                        <td id=\"T_28c4ce7e_d86f_11eb_8cf1_646c80b0af54row1_col0\" class=\"data row1 col0\" >22</td>\n",
       "                        <td id=\"T_28c4ce7e_d86f_11eb_8cf1_646c80b0af54row1_col1\" class=\"data row1 col1\" >3.82%</td>\n",
       "            </tr>\n",
       "            <tr>\n",
       "                        <th id=\"T_28c4ce7e_d86f_11eb_8cf1_646c80b0af54level0_row2\" class=\"row_heading level0 row2\" >15-19</th>\n",
       "                        <td id=\"T_28c4ce7e_d86f_11eb_8cf1_646c80b0af54row2_col0\" class=\"data row2 col0\" >107</td>\n",
       "                        <td id=\"T_28c4ce7e_d86f_11eb_8cf1_646c80b0af54row2_col1\" class=\"data row2 col1\" >18.58%</td>\n",
       "            </tr>\n",
       "            <tr>\n",
       "                        <th id=\"T_28c4ce7e_d86f_11eb_8cf1_646c80b0af54level0_row3\" class=\"row_heading level0 row3\" >20-24</th>\n",
       "                        <td id=\"T_28c4ce7e_d86f_11eb_8cf1_646c80b0af54row3_col0\" class=\"data row3 col0\" >258</td>\n",
       "                        <td id=\"T_28c4ce7e_d86f_11eb_8cf1_646c80b0af54row3_col1\" class=\"data row3 col1\" >44.79%</td>\n",
       "            </tr>\n",
       "            <tr>\n",
       "                        <th id=\"T_28c4ce7e_d86f_11eb_8cf1_646c80b0af54level0_row4\" class=\"row_heading level0 row4\" >25-29</th>\n",
       "                        <td id=\"T_28c4ce7e_d86f_11eb_8cf1_646c80b0af54row4_col0\" class=\"data row4 col0\" >77</td>\n",
       "                        <td id=\"T_28c4ce7e_d86f_11eb_8cf1_646c80b0af54row4_col1\" class=\"data row4 col1\" >13.37%</td>\n",
       "            </tr>\n",
       "            <tr>\n",
       "                        <th id=\"T_28c4ce7e_d86f_11eb_8cf1_646c80b0af54level0_row5\" class=\"row_heading level0 row5\" >30-34</th>\n",
       "                        <td id=\"T_28c4ce7e_d86f_11eb_8cf1_646c80b0af54row5_col0\" class=\"data row5 col0\" >52</td>\n",
       "                        <td id=\"T_28c4ce7e_d86f_11eb_8cf1_646c80b0af54row5_col1\" class=\"data row5 col1\" >9.03%</td>\n",
       "            </tr>\n",
       "            <tr>\n",
       "                        <th id=\"T_28c4ce7e_d86f_11eb_8cf1_646c80b0af54level0_row6\" class=\"row_heading level0 row6\" >35-39</th>\n",
       "                        <td id=\"T_28c4ce7e_d86f_11eb_8cf1_646c80b0af54row6_col0\" class=\"data row6 col0\" >31</td>\n",
       "                        <td id=\"T_28c4ce7e_d86f_11eb_8cf1_646c80b0af54row6_col1\" class=\"data row6 col1\" >5.38%</td>\n",
       "            </tr>\n",
       "            <tr>\n",
       "                        <th id=\"T_28c4ce7e_d86f_11eb_8cf1_646c80b0af54level0_row7\" class=\"row_heading level0 row7\" >40+</th>\n",
       "                        <td id=\"T_28c4ce7e_d86f_11eb_8cf1_646c80b0af54row7_col0\" class=\"data row7 col0\" >12</td>\n",
       "                        <td id=\"T_28c4ce7e_d86f_11eb_8cf1_646c80b0af54row7_col1\" class=\"data row7 col1\" >2.08%</td>\n",
       "            </tr>\n",
       "    </tbody></table>"
      ],
      "text/plain": [
       "<pandas.io.formats.style.Styler at 0x2bce2559fa0>"
      ]
     },
     "execution_count": 8,
     "metadata": {},
     "output_type": "execute_result"
    }
   ],
   "source": [
    "# Calculating age Demographics of players\n",
    "\n",
    "# Bins/buckets for groupig data\n",
    "bins=[0,9,14,19,24,29,34,39,100]\n",
    "\n",
    "# Labels in accordance with the bin values\n",
    "age_group=['<10','10-14','15-19','20-24','25-29','30-34','35-39','40+']\n",
    "\n",
    "# pd.cut is used to cut data with bin values\n",
    "players_df['Age Ranges']=pd.cut(players_df.Age, bins, labels=age_group) \n",
    "# Data cleaning based \"SN\" values\n",
    "age_demo=players_df.drop_duplicates(['SN']) \n",
    "# Values sorted based on Age and then grouping by age ranges and count functions\n",
    "df=age_demo.sort_values('Age').groupby('Age Ranges').count() \n",
    "# A new dataframe is created for the age demographics\n",
    "df=pd.DataFrame({\"Count\":(df.Age), 'Percentage of Players':(df.Age/576)})\n",
    "# Style formatting into percentage\n",
    "df.style.format({'Percentage of Players': \"{0:.2%}\"})                                     "
   ]
  },
  {
   "cell_type": "code",
   "execution_count": 9,
   "metadata": {},
   "outputs": [
    {
     "data": {
      "text/html": [
       "<style  type=\"text/css\" >\n",
       "</style><table id=\"T_28ccbdc7_d86f_11eb_9f10_646c80b0af54\" ><thead>    <tr>        <th class=\"blank level0\" ></th>        <th class=\"col_heading level0 col0\" >Purchase Count</th>        <th class=\"col_heading level0 col1\" >Average Purchase Price</th>        <th class=\"col_heading level0 col2\" >Total Purchase Value</th>        <th class=\"col_heading level0 col3\" >Avg Total Purchase Per Person</th>    </tr>    <tr>        <th class=\"index_name level0\" >Age Ranges</th>        <th class=\"blank\" ></th>        <th class=\"blank\" ></th>        <th class=\"blank\" ></th>        <th class=\"blank\" ></th>    </tr></thead><tbody>\n",
       "                <tr>\n",
       "                        <th id=\"T_28ccbdc7_d86f_11eb_9f10_646c80b0af54level0_row0\" class=\"row_heading level0 row0\" ><10</th>\n",
       "                        <td id=\"T_28ccbdc7_d86f_11eb_9f10_646c80b0af54row0_col0\" class=\"data row0 col0\" >23</td>\n",
       "                        <td id=\"T_28ccbdc7_d86f_11eb_9f10_646c80b0af54row0_col1\" class=\"data row0 col1\" >$3.35</td>\n",
       "                        <td id=\"T_28ccbdc7_d86f_11eb_9f10_646c80b0af54row0_col2\" class=\"data row0 col2\" >$77.13</td>\n",
       "                        <td id=\"T_28ccbdc7_d86f_11eb_9f10_646c80b0af54row0_col3\" class=\"data row0 col3\" >$4.54</td>\n",
       "            </tr>\n",
       "            <tr>\n",
       "                        <th id=\"T_28ccbdc7_d86f_11eb_9f10_646c80b0af54level0_row1\" class=\"row_heading level0 row1\" >10-14</th>\n",
       "                        <td id=\"T_28ccbdc7_d86f_11eb_9f10_646c80b0af54row1_col0\" class=\"data row1 col0\" >28</td>\n",
       "                        <td id=\"T_28ccbdc7_d86f_11eb_9f10_646c80b0af54row1_col1\" class=\"data row1 col1\" >$2.96</td>\n",
       "                        <td id=\"T_28ccbdc7_d86f_11eb_9f10_646c80b0af54row1_col2\" class=\"data row1 col2\" >$82.78</td>\n",
       "                        <td id=\"T_28ccbdc7_d86f_11eb_9f10_646c80b0af54row1_col3\" class=\"data row1 col3\" >$3.76</td>\n",
       "            </tr>\n",
       "            <tr>\n",
       "                        <th id=\"T_28ccbdc7_d86f_11eb_9f10_646c80b0af54level0_row2\" class=\"row_heading level0 row2\" >15-19</th>\n",
       "                        <td id=\"T_28ccbdc7_d86f_11eb_9f10_646c80b0af54row2_col0\" class=\"data row2 col0\" >136</td>\n",
       "                        <td id=\"T_28ccbdc7_d86f_11eb_9f10_646c80b0af54row2_col1\" class=\"data row2 col1\" >$3.04</td>\n",
       "                        <td id=\"T_28ccbdc7_d86f_11eb_9f10_646c80b0af54row2_col2\" class=\"data row2 col2\" >$412.89</td>\n",
       "                        <td id=\"T_28ccbdc7_d86f_11eb_9f10_646c80b0af54row2_col3\" class=\"data row2 col3\" >$3.86</td>\n",
       "            </tr>\n",
       "            <tr>\n",
       "                        <th id=\"T_28ccbdc7_d86f_11eb_9f10_646c80b0af54level0_row3\" class=\"row_heading level0 row3\" >20-24</th>\n",
       "                        <td id=\"T_28ccbdc7_d86f_11eb_9f10_646c80b0af54row3_col0\" class=\"data row3 col0\" >365</td>\n",
       "                        <td id=\"T_28ccbdc7_d86f_11eb_9f10_646c80b0af54row3_col1\" class=\"data row3 col1\" >$3.05</td>\n",
       "                        <td id=\"T_28ccbdc7_d86f_11eb_9f10_646c80b0af54row3_col2\" class=\"data row3 col2\" >$1114.06</td>\n",
       "                        <td id=\"T_28ccbdc7_d86f_11eb_9f10_646c80b0af54row3_col3\" class=\"data row3 col3\" >$4.32</td>\n",
       "            </tr>\n",
       "            <tr>\n",
       "                        <th id=\"T_28ccbdc7_d86f_11eb_9f10_646c80b0af54level0_row4\" class=\"row_heading level0 row4\" >25-29</th>\n",
       "                        <td id=\"T_28ccbdc7_d86f_11eb_9f10_646c80b0af54row4_col0\" class=\"data row4 col0\" >101</td>\n",
       "                        <td id=\"T_28ccbdc7_d86f_11eb_9f10_646c80b0af54row4_col1\" class=\"data row4 col1\" >$2.90</td>\n",
       "                        <td id=\"T_28ccbdc7_d86f_11eb_9f10_646c80b0af54row4_col2\" class=\"data row4 col2\" >$293.00</td>\n",
       "                        <td id=\"T_28ccbdc7_d86f_11eb_9f10_646c80b0af54row4_col3\" class=\"data row4 col3\" >$3.81</td>\n",
       "            </tr>\n",
       "            <tr>\n",
       "                        <th id=\"T_28ccbdc7_d86f_11eb_9f10_646c80b0af54level0_row5\" class=\"row_heading level0 row5\" >30-34</th>\n",
       "                        <td id=\"T_28ccbdc7_d86f_11eb_9f10_646c80b0af54row5_col0\" class=\"data row5 col0\" >73</td>\n",
       "                        <td id=\"T_28ccbdc7_d86f_11eb_9f10_646c80b0af54row5_col1\" class=\"data row5 col1\" >$2.93</td>\n",
       "                        <td id=\"T_28ccbdc7_d86f_11eb_9f10_646c80b0af54row5_col2\" class=\"data row5 col2\" >$214.00</td>\n",
       "                        <td id=\"T_28ccbdc7_d86f_11eb_9f10_646c80b0af54row5_col3\" class=\"data row5 col3\" >$4.12</td>\n",
       "            </tr>\n",
       "            <tr>\n",
       "                        <th id=\"T_28ccbdc7_d86f_11eb_9f10_646c80b0af54level0_row6\" class=\"row_heading level0 row6\" >35-39</th>\n",
       "                        <td id=\"T_28ccbdc7_d86f_11eb_9f10_646c80b0af54row6_col0\" class=\"data row6 col0\" >41</td>\n",
       "                        <td id=\"T_28ccbdc7_d86f_11eb_9f10_646c80b0af54row6_col1\" class=\"data row6 col1\" >$3.60</td>\n",
       "                        <td id=\"T_28ccbdc7_d86f_11eb_9f10_646c80b0af54row6_col2\" class=\"data row6 col2\" >$147.67</td>\n",
       "                        <td id=\"T_28ccbdc7_d86f_11eb_9f10_646c80b0af54row6_col3\" class=\"data row6 col3\" >$4.76</td>\n",
       "            </tr>\n",
       "            <tr>\n",
       "                        <th id=\"T_28ccbdc7_d86f_11eb_9f10_646c80b0af54level0_row7\" class=\"row_heading level0 row7\" >40+</th>\n",
       "                        <td id=\"T_28ccbdc7_d86f_11eb_9f10_646c80b0af54row7_col0\" class=\"data row7 col0\" >13</td>\n",
       "                        <td id=\"T_28ccbdc7_d86f_11eb_9f10_646c80b0af54row7_col1\" class=\"data row7 col1\" >$2.94</td>\n",
       "                        <td id=\"T_28ccbdc7_d86f_11eb_9f10_646c80b0af54row7_col2\" class=\"data row7 col2\" >$38.24</td>\n",
       "                        <td id=\"T_28ccbdc7_d86f_11eb_9f10_646c80b0af54row7_col3\" class=\"data row7 col3\" >$3.19</td>\n",
       "            </tr>\n",
       "    </tbody></table>"
      ],
      "text/plain": [
       "<pandas.io.formats.style.Styler at 0x2bce257b340>"
      ]
     },
     "execution_count": 9,
     "metadata": {},
     "output_type": "execute_result"
    }
   ],
   "source": [
    "# Calculating purchasing analysis by age\n",
    "# Sorting dataframe by Age and grouping by Age Ranges\n",
    "age_ranges=players_df.sort_values('Age').groupby('Age Ranges').count()\n",
    "# Calculating purchase count with age\n",
    "purchase_count=age_ranges.Age\n",
    "# Calculating average purchase price \n",
    "pur_analysis=players_df.sort_values('Age').groupby('Age Ranges')\n",
    "avg_purchase_price=pur_analysis.Price.mean()\n",
    "# Calculating total purchase price\n",
    "tot_purchase_price=pur_analysis.Price.sum()\n",
    "\n",
    "# Average total purchase per person\n",
    "# Droping duplicates of column SN and sorting and grouping to get the count\n",
    "tot_uniq_person=players_df.drop_duplicates(['SN'])\n",
    "uniq_person_grp=tot_uniq_person.sort_values('Age').groupby('Age Ranges')\n",
    "# Finding the the count in ranges based on 'Purchase ID'\n",
    "range_person_count=uniq_person_grp['Purchase ID'].count()\n",
    "# Finding the average\n",
    "avg_purchase_per_person=tot_purchase_price/range_person_count\n",
    "\n",
    "# Purchase analysis(age) dataframe\n",
    "purchase_analysis=pd.DataFrame({\"Purchase Count\":purchase_count,\n",
    "                                \"Average Purchase Price\":avg_purchase_price,\n",
    "                                \"Total Purchase Value\":tot_purchase_price,\n",
    "                                \"Avg Total Purchase Per Person\":avg_purchase_per_person})\n",
    "\n",
    "# Style formating the dataframe to get $ sign and two decimal places\n",
    "purchase_analysis.style.format({'Average Purchase Price': \"${0:.2f}\",\n",
    "                                \"Total Purchase Value\":\"${0:.2f}\",\n",
    "                                \"Avg Total Purchase Per Person\":\"${0:.2f}\"})"
   ]
  },
  {
   "cell_type": "code",
   "execution_count": 10,
   "metadata": {},
   "outputs": [
    {
     "data": {
      "text/html": [
       "<style  type=\"text/css\" >\n",
       "</style><table id=\"T_28d1c712_d86f_11eb_9373_646c80b0af54\" ><thead>    <tr>        <th class=\"blank level0\" ></th>        <th class=\"col_heading level0 col0\" >Purchase Count</th>        <th class=\"col_heading level0 col1\" >Average Purchase Price</th>        <th class=\"col_heading level0 col2\" >Total Purchase Value</th>    </tr>    <tr>        <th class=\"index_name level0\" >SN</th>        <th class=\"blank\" ></th>        <th class=\"blank\" ></th>        <th class=\"blank\" ></th>    </tr></thead><tbody>\n",
       "                <tr>\n",
       "                        <th id=\"T_28d1c712_d86f_11eb_9373_646c80b0af54level0_row0\" class=\"row_heading level0 row0\" >Lisosia93</th>\n",
       "                        <td id=\"T_28d1c712_d86f_11eb_9373_646c80b0af54row0_col0\" class=\"data row0 col0\" >5</td>\n",
       "                        <td id=\"T_28d1c712_d86f_11eb_9373_646c80b0af54row0_col1\" class=\"data row0 col1\" >$3.79</td>\n",
       "                        <td id=\"T_28d1c712_d86f_11eb_9373_646c80b0af54row0_col2\" class=\"data row0 col2\" >$18.96</td>\n",
       "            </tr>\n",
       "            <tr>\n",
       "                        <th id=\"T_28d1c712_d86f_11eb_9373_646c80b0af54level0_row1\" class=\"row_heading level0 row1\" >Idastidru52</th>\n",
       "                        <td id=\"T_28d1c712_d86f_11eb_9373_646c80b0af54row1_col0\" class=\"data row1 col0\" >4</td>\n",
       "                        <td id=\"T_28d1c712_d86f_11eb_9373_646c80b0af54row1_col1\" class=\"data row1 col1\" >$3.86</td>\n",
       "                        <td id=\"T_28d1c712_d86f_11eb_9373_646c80b0af54row1_col2\" class=\"data row1 col2\" >$15.45</td>\n",
       "            </tr>\n",
       "            <tr>\n",
       "                        <th id=\"T_28d1c712_d86f_11eb_9373_646c80b0af54level0_row2\" class=\"row_heading level0 row2\" >Chamjask73</th>\n",
       "                        <td id=\"T_28d1c712_d86f_11eb_9373_646c80b0af54row2_col0\" class=\"data row2 col0\" >3</td>\n",
       "                        <td id=\"T_28d1c712_d86f_11eb_9373_646c80b0af54row2_col1\" class=\"data row2 col1\" >$4.61</td>\n",
       "                        <td id=\"T_28d1c712_d86f_11eb_9373_646c80b0af54row2_col2\" class=\"data row2 col2\" >$13.83</td>\n",
       "            </tr>\n",
       "            <tr>\n",
       "                        <th id=\"T_28d1c712_d86f_11eb_9373_646c80b0af54level0_row3\" class=\"row_heading level0 row3\" >Iral74</th>\n",
       "                        <td id=\"T_28d1c712_d86f_11eb_9373_646c80b0af54row3_col0\" class=\"data row3 col0\" >4</td>\n",
       "                        <td id=\"T_28d1c712_d86f_11eb_9373_646c80b0af54row3_col1\" class=\"data row3 col1\" >$3.40</td>\n",
       "                        <td id=\"T_28d1c712_d86f_11eb_9373_646c80b0af54row3_col2\" class=\"data row3 col2\" >$13.62</td>\n",
       "            </tr>\n",
       "            <tr>\n",
       "                        <th id=\"T_28d1c712_d86f_11eb_9373_646c80b0af54level0_row4\" class=\"row_heading level0 row4\" >Iskadarya95</th>\n",
       "                        <td id=\"T_28d1c712_d86f_11eb_9373_646c80b0af54row4_col0\" class=\"data row4 col0\" >3</td>\n",
       "                        <td id=\"T_28d1c712_d86f_11eb_9373_646c80b0af54row4_col1\" class=\"data row4 col1\" >$4.37</td>\n",
       "                        <td id=\"T_28d1c712_d86f_11eb_9373_646c80b0af54row4_col2\" class=\"data row4 col2\" >$13.10</td>\n",
       "            </tr>\n",
       "    </tbody></table>"
      ],
      "text/plain": [
       "<pandas.io.formats.style.Styler at 0x2bcdf35f190>"
      ]
     },
     "execution_count": 10,
     "metadata": {},
     "output_type": "execute_result"
    }
   ],
   "source": [
    "# Calculating top spenders\n",
    "# Grouping based on column SN\n",
    "group_sn = players_df.groupby('SN')\n",
    "# Calculating the sum of Price\n",
    "p_value=group_sn.Price.sum()\n",
    "# Purchase count of top spenders\n",
    "p_count=group_sn['Item ID'].count()\n",
    "\n",
    "# Top spenders datafram\n",
    "top_spenders=pd.DataFrame({\"Purchase Count\":p_count,\n",
    "                           \"Average Purchase Price\":p_value/p_count,\n",
    "                           \"Total Purchase Value\":p_value})\n",
    "\n",
    "# Style formatting the dataframe in the descending order of Total Purchase Value\n",
    "top_spenders.sort_values(by=['Total Purchase Value'],ascending=False\n",
    "                        ).head().style.format({'Average Purchase Price': \"${0:.2f}\",\n",
    "                                               \"Total Purchase Value\":\"${0:.2f}\"})\n"
   ]
  },
  {
   "cell_type": "code",
   "execution_count": 11,
   "metadata": {},
   "outputs": [
    {
     "data": {
      "text/html": [
       "<style  type=\"text/css\" >\n",
       "</style><table id=\"T_28d7937f_d86f_11eb_9514_646c80b0af54\" ><thead>    <tr>        <th class=\"blank\" ></th>        <th class=\"blank level0\" ></th>        <th class=\"col_heading level0 col0\" >Purchase Count</th>        <th class=\"col_heading level0 col1\" >Item Price</th>        <th class=\"col_heading level0 col2\" >Total Purchase Value</th>    </tr>    <tr>        <th class=\"index_name level0\" >Item ID</th>        <th class=\"index_name level1\" >Item Name</th>        <th class=\"blank\" ></th>        <th class=\"blank\" ></th>        <th class=\"blank\" ></th>    </tr></thead><tbody>\n",
       "                <tr>\n",
       "                        <th id=\"T_28d7937f_d86f_11eb_9514_646c80b0af54level0_row0\" class=\"row_heading level0 row0\" >92</th>\n",
       "                        <th id=\"T_28d7937f_d86f_11eb_9514_646c80b0af54level1_row0\" class=\"row_heading level1 row0\" >Final Critic</th>\n",
       "                        <td id=\"T_28d7937f_d86f_11eb_9514_646c80b0af54row0_col0\" class=\"data row0 col0\" >13</td>\n",
       "                        <td id=\"T_28d7937f_d86f_11eb_9514_646c80b0af54row0_col1\" class=\"data row0 col1\" >$4.61</td>\n",
       "                        <td id=\"T_28d7937f_d86f_11eb_9514_646c80b0af54row0_col2\" class=\"data row0 col2\" >$59.99</td>\n",
       "            </tr>\n",
       "            <tr>\n",
       "                        <th id=\"T_28d7937f_d86f_11eb_9514_646c80b0af54level0_row1\" class=\"row_heading level0 row1\" >178</th>\n",
       "                        <th id=\"T_28d7937f_d86f_11eb_9514_646c80b0af54level1_row1\" class=\"row_heading level1 row1\" >Oathbreaker, Last Hope of the Breaking Storm</th>\n",
       "                        <td id=\"T_28d7937f_d86f_11eb_9514_646c80b0af54row1_col0\" class=\"data row1 col0\" >12</td>\n",
       "                        <td id=\"T_28d7937f_d86f_11eb_9514_646c80b0af54row1_col1\" class=\"data row1 col1\" >$4.23</td>\n",
       "                        <td id=\"T_28d7937f_d86f_11eb_9514_646c80b0af54row1_col2\" class=\"data row1 col2\" >$50.76</td>\n",
       "            </tr>\n",
       "            <tr>\n",
       "                        <th id=\"T_28d7937f_d86f_11eb_9514_646c80b0af54level0_row2\" class=\"row_heading level0 row2\" >145</th>\n",
       "                        <th id=\"T_28d7937f_d86f_11eb_9514_646c80b0af54level1_row2\" class=\"row_heading level1 row2\" >Fiery Glass Crusader</th>\n",
       "                        <td id=\"T_28d7937f_d86f_11eb_9514_646c80b0af54row2_col0\" class=\"data row2 col0\" >9</td>\n",
       "                        <td id=\"T_28d7937f_d86f_11eb_9514_646c80b0af54row2_col1\" class=\"data row2 col1\" >$4.58</td>\n",
       "                        <td id=\"T_28d7937f_d86f_11eb_9514_646c80b0af54row2_col2\" class=\"data row2 col2\" >$41.22</td>\n",
       "            </tr>\n",
       "            <tr>\n",
       "                        <th id=\"T_28d7937f_d86f_11eb_9514_646c80b0af54level0_row3\" class=\"row_heading level0 row3\" >132</th>\n",
       "                        <th id=\"T_28d7937f_d86f_11eb_9514_646c80b0af54level1_row3\" class=\"row_heading level1 row3\" >Persuasion</th>\n",
       "                        <td id=\"T_28d7937f_d86f_11eb_9514_646c80b0af54row3_col0\" class=\"data row3 col0\" >9</td>\n",
       "                        <td id=\"T_28d7937f_d86f_11eb_9514_646c80b0af54row3_col1\" class=\"data row3 col1\" >$3.22</td>\n",
       "                        <td id=\"T_28d7937f_d86f_11eb_9514_646c80b0af54row3_col2\" class=\"data row3 col2\" >$28.99</td>\n",
       "            </tr>\n",
       "            <tr>\n",
       "                        <th id=\"T_28d7937f_d86f_11eb_9514_646c80b0af54level0_row4\" class=\"row_heading level0 row4\" >108</th>\n",
       "                        <th id=\"T_28d7937f_d86f_11eb_9514_646c80b0af54level1_row4\" class=\"row_heading level1 row4\" >Extraction, Quickblade Of Trembling Hands</th>\n",
       "                        <td id=\"T_28d7937f_d86f_11eb_9514_646c80b0af54row4_col0\" class=\"data row4 col0\" >9</td>\n",
       "                        <td id=\"T_28d7937f_d86f_11eb_9514_646c80b0af54row4_col1\" class=\"data row4 col1\" >$3.53</td>\n",
       "                        <td id=\"T_28d7937f_d86f_11eb_9514_646c80b0af54row4_col2\" class=\"data row4 col2\" >$31.77</td>\n",
       "            </tr>\n",
       "    </tbody></table>"
      ],
      "text/plain": [
       "<pandas.io.formats.style.Styler at 0x2bce256d730>"
      ]
     },
     "execution_count": 11,
     "metadata": {},
     "output_type": "execute_result"
    }
   ],
   "source": [
    "# Calculating most popular items\n",
    "# Retrieve the Item ID, Item Name, and Item Price columns\n",
    "item_df=players_df[['Item ID', 'Item Name', 'Price']]\n",
    "# Group by Item ID and Item Name\n",
    "item_group=item_df.groupby(['Item ID', 'Item Name'])\n",
    "# purchase count calculated by Item ID\n",
    "phs_count=item_group['Item ID'].count()\n",
    "# purchase sum calculated by Price\n",
    "phs_value=item_group['Price'].sum()\n",
    "\n",
    "# Most popular items dataframe\n",
    "most_pop_items=pd.DataFrame({\"Purchase Count\":phs_count,\n",
    "                             \"Item Price\":round(phs_value/phs_count,2),\n",
    "                             \"Total Purchase Value\":phs_value})\n",
    "# Rearranging dataframe based on purchase count and style formatting to get two decimal places with $ sign\n",
    "most_pop_items.sort_values(by=['Purchase Count'],ascending=False\n",
    "                          ).head().style.format({'Item Price': \"${0:.2f}\",\n",
    "                                                 \"Total Purchase Value\":\"${0:.2f}\"})"
   ]
  },
  {
   "cell_type": "code",
   "execution_count": 12,
   "metadata": {},
   "outputs": [
    {
     "data": {
      "text/html": [
       "<style  type=\"text/css\" >\n",
       "</style><table id=\"T_297ef446_d86f_11eb_8659_646c80b0af54\" ><thead>    <tr>        <th class=\"blank\" ></th>        <th class=\"blank level0\" ></th>        <th class=\"col_heading level0 col0\" >Purchase Count</th>        <th class=\"col_heading level0 col1\" >Item Price</th>        <th class=\"col_heading level0 col2\" >Total Purchase Value</th>    </tr>    <tr>        <th class=\"index_name level0\" >Item ID</th>        <th class=\"index_name level1\" >Item Name</th>        <th class=\"blank\" ></th>        <th class=\"blank\" ></th>        <th class=\"blank\" ></th>    </tr></thead><tbody>\n",
       "                <tr>\n",
       "                        <th id=\"T_297ef446_d86f_11eb_8659_646c80b0af54level0_row0\" class=\"row_heading level0 row0\" >92</th>\n",
       "                        <th id=\"T_297ef446_d86f_11eb_8659_646c80b0af54level1_row0\" class=\"row_heading level1 row0\" >Final Critic</th>\n",
       "                        <td id=\"T_297ef446_d86f_11eb_8659_646c80b0af54row0_col0\" class=\"data row0 col0\" >13</td>\n",
       "                        <td id=\"T_297ef446_d86f_11eb_8659_646c80b0af54row0_col1\" class=\"data row0 col1\" >$4.61</td>\n",
       "                        <td id=\"T_297ef446_d86f_11eb_8659_646c80b0af54row0_col2\" class=\"data row0 col2\" >$59.99</td>\n",
       "            </tr>\n",
       "            <tr>\n",
       "                        <th id=\"T_297ef446_d86f_11eb_8659_646c80b0af54level0_row1\" class=\"row_heading level0 row1\" >178</th>\n",
       "                        <th id=\"T_297ef446_d86f_11eb_8659_646c80b0af54level1_row1\" class=\"row_heading level1 row1\" >Oathbreaker, Last Hope of the Breaking Storm</th>\n",
       "                        <td id=\"T_297ef446_d86f_11eb_8659_646c80b0af54row1_col0\" class=\"data row1 col0\" >12</td>\n",
       "                        <td id=\"T_297ef446_d86f_11eb_8659_646c80b0af54row1_col1\" class=\"data row1 col1\" >$4.23</td>\n",
       "                        <td id=\"T_297ef446_d86f_11eb_8659_646c80b0af54row1_col2\" class=\"data row1 col2\" >$50.76</td>\n",
       "            </tr>\n",
       "            <tr>\n",
       "                        <th id=\"T_297ef446_d86f_11eb_8659_646c80b0af54level0_row2\" class=\"row_heading level0 row2\" >82</th>\n",
       "                        <th id=\"T_297ef446_d86f_11eb_8659_646c80b0af54level1_row2\" class=\"row_heading level1 row2\" >Nirvana</th>\n",
       "                        <td id=\"T_297ef446_d86f_11eb_8659_646c80b0af54row2_col0\" class=\"data row2 col0\" >9</td>\n",
       "                        <td id=\"T_297ef446_d86f_11eb_8659_646c80b0af54row2_col1\" class=\"data row2 col1\" >$4.90</td>\n",
       "                        <td id=\"T_297ef446_d86f_11eb_8659_646c80b0af54row2_col2\" class=\"data row2 col2\" >$44.10</td>\n",
       "            </tr>\n",
       "            <tr>\n",
       "                        <th id=\"T_297ef446_d86f_11eb_8659_646c80b0af54level0_row3\" class=\"row_heading level0 row3\" >145</th>\n",
       "                        <th id=\"T_297ef446_d86f_11eb_8659_646c80b0af54level1_row3\" class=\"row_heading level1 row3\" >Fiery Glass Crusader</th>\n",
       "                        <td id=\"T_297ef446_d86f_11eb_8659_646c80b0af54row3_col0\" class=\"data row3 col0\" >9</td>\n",
       "                        <td id=\"T_297ef446_d86f_11eb_8659_646c80b0af54row3_col1\" class=\"data row3 col1\" >$4.58</td>\n",
       "                        <td id=\"T_297ef446_d86f_11eb_8659_646c80b0af54row3_col2\" class=\"data row3 col2\" >$41.22</td>\n",
       "            </tr>\n",
       "            <tr>\n",
       "                        <th id=\"T_297ef446_d86f_11eb_8659_646c80b0af54level0_row4\" class=\"row_heading level0 row4\" >103</th>\n",
       "                        <th id=\"T_297ef446_d86f_11eb_8659_646c80b0af54level1_row4\" class=\"row_heading level1 row4\" >Singed Scalpel</th>\n",
       "                        <td id=\"T_297ef446_d86f_11eb_8659_646c80b0af54row4_col0\" class=\"data row4 col0\" >8</td>\n",
       "                        <td id=\"T_297ef446_d86f_11eb_8659_646c80b0af54row4_col1\" class=\"data row4 col1\" >$4.35</td>\n",
       "                        <td id=\"T_297ef446_d86f_11eb_8659_646c80b0af54row4_col2\" class=\"data row4 col2\" >$34.80</td>\n",
       "            </tr>\n",
       "    </tbody></table>"
      ],
      "text/plain": [
       "<pandas.io.formats.style.Styler at 0x2bce258e730>"
      ]
     },
     "execution_count": 12,
     "metadata": {},
     "output_type": "execute_result"
    }
   ],
   "source": [
    "# Calculating most pofitable items\n",
    "# New dataframe based on Total Purchase Value and style formatting to get two decimal places with $ sign\n",
    "most_pop_items.sort_values(by=['Total Purchase Value'],ascending=False\n",
    "                          ).head().style.format({'Item Price': \"${0:.2f}\",\n",
    "                                                 \"Total Purchase Value\":\"${0:.2f}\"})"
   ]
  },
  {
   "cell_type": "code",
   "execution_count": null,
   "metadata": {},
   "outputs": [],
   "source": []
  },
  {
   "cell_type": "code",
   "execution_count": null,
   "metadata": {},
   "outputs": [],
   "source": []
  }
 ],
 "metadata": {
  "kernelspec": {
   "display_name": "Python 3",
   "language": "python",
   "name": "python3"
  },
  "language_info": {
   "codemirror_mode": {
    "name": "ipython",
    "version": 3
   },
   "file_extension": ".py",
   "mimetype": "text/x-python",
   "name": "python",
   "nbconvert_exporter": "python",
   "pygments_lexer": "ipython3",
   "version": "3.8.5"
  }
 },
 "nbformat": 4,
 "nbformat_minor": 4
}
