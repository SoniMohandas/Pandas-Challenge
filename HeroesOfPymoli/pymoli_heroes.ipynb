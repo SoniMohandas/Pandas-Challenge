{
 "cells": [
  {
   "cell_type": "code",
   "execution_count": null,
   "metadata": {},
   "outputs": [],
   "source": [
    "# Dependencies and Setup\n",
    "import pandas as pd\n",
    "import numpy as nm"
   ]
  },
  {
   "cell_type": "code",
   "execution_count": null,
   "metadata": {},
   "outputs": [],
   "source": [
    "# Specifying file path\n",
    "file_path=\"Resources/purchase_data.csv\""
   ]
  },
  {
   "cell_type": "code",
   "execution_count": null,
   "metadata": {},
   "outputs": [],
   "source": [
    "# Read purchase_data file and stores into pandas data frame\n",
    "purchase_read=pd.read_csv(file_path, delimiter=',')\n",
    "players_df = pd.DataFrame(purchase_read)\n",
    "players_df.head(2)"
   ]
  },
  {
   "cell_type": "code",
   "execution_count": null,
   "metadata": {},
   "outputs": [],
   "source": [
    "# Display of total number of players in a data frame\n",
    "uniq_players=len(purchase_read[\"SN\"].unique())\n",
    "total_players=pd.DataFrame({\"Total Players\":[uniq_players]})\n",
    "total_players\n",
    "#total_players.style.set_table_styles({'selector':'th','props':('border','0.5px black solid !important; color: black !important;)})"
   ]
  },
  {
   "cell_type": "code",
   "execution_count": null,
   "metadata": {},
   "outputs": [],
   "source": [
    "# Printing number of unique items, average price, total purchase and total revenue\n",
    "uniq_items=len(purchase_read[\"Item ID\"].unique())\n",
    "avg_price=round(purchase_read[\"Price\"].mean(),2)\n",
    "total_purchase=purchase_read[\"Purchase ID\"].count()\n",
    "total_revenue=purchase_read[\"Price\"].sum()\n",
    "pd.DataFrame({\"Number of Unique Items\":[uniq_items], \"Average Price\":[avg_price], \n",
    "              \"Total Purchase\":[total_purchase], \"Total Revenue\":[total_revenue]})"
   ]
  },
  {
   "cell_type": "code",
   "execution_count": null,
   "metadata": {},
   "outputs": [],
   "source": [
    "# Gender Demographics\n",
    "male_player_count=len(purchase_read([\"Gender\"]==\"Male\"))"
   ]
  },
  {
   "cell_type": "code",
   "execution_count": null,
   "metadata": {},
   "outputs": [],
   "source": []
  }
 ],
 "metadata": {
  "kernelspec": {
   "display_name": "Python 3",
   "language": "python",
   "name": "python3"
  },
  "language_info": {
   "codemirror_mode": {
    "name": "ipython",
    "version": 3
   },
   "file_extension": ".py",
   "mimetype": "text/x-python",
   "name": "python",
   "nbconvert_exporter": "python",
   "pygments_lexer": "ipython3",
   "version": "3.8.5"
  }
 },
 "nbformat": 4,
 "nbformat_minor": 4
}
